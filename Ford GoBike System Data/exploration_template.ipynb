{
 "cells": [
  {
   "cell_type": "markdown",
   "metadata": {},
   "source": [
    "# Ford GoBike System Analysis\n",
    "\n",
    "### by Mohamed Gamal Elbayoumi"
   ]
  },
  {
   "cell_type": "markdown",
   "metadata": {},
   "source": [
    "### Table of Contents\n",
    "- [Introduction](#intro)\n",
    "- [Preliminary Wrangling](#prelim)\n",
    "- [Univariate Exploration](#univariate)\n",
    "- [Bivariate Explorationn](#bivariate)\n",
    "- [Multivariate Exploration](#multivariate)\n",
    "- [Summary](#summary)\n",
    "- [Sources](#sources)"
   ]
  },
  {
   "cell_type": "markdown",
   "metadata": {},
   "source": [
    "<a id='intro'></a>\n",
    "## Introduction\n",
    "\n",
    ">Over the past decade, bicycle-sharing systems are growing in variety and recognition in cities across the globe. Bicycle-sharing systems enable users to rent bicycles for brief visits, usually half-hour or less. Thanks to the increase in info technologies, it's simple for a user of the system to access a dock at intervals the system to unlock or come bicycles. These technologies additionally give a wealth of knowledge that may be wont to explore however these bike-sharing systems area unit used. In this project, I will perform an exploratory analysis of data provided by Ford GoBike, a bike-share system provider.\n",
    "\n",
    ">The bikes are available for use 24 hours/day, 7 days/week, 365 days/year and riders have access to all bikes in the network when they become a member or purchase a pass.\n",
    "\n",
    "> See the data [here](https://www.fordgobike.com/system-data)"
   ]
  },
  {
   "cell_type": "code",
   "execution_count": 1,
   "metadata": {},
   "outputs": [],
   "source": [
    "# import all packages and set plots to be embedded inline\n",
    "import numpy as np\n",
    "import pandas as pd\n",
    "import matplotlib.pyplot as plt\n",
    "%matplotlib inline\n",
    "import seaborn as sb\n",
    "from jupyterthemes import jtplot\n",
    "jtplot.style(theme='onedork')\n",
    "import glob\n",
    "import os\n",
    "import datetime"
   ]
  },
  {
   "cell_type": "markdown",
   "metadata": {},
   "source": [
    "### Gathering and Assessing Data"
   ]
  },
  {
   "cell_type": "code",
   "execution_count": 2,
   "metadata": {},
   "outputs": [
    {
     "name": "stdout",
     "output_type": "stream",
     "text": [
      "(1863721, 16)\n"
     ]
    },
    {
     "data": {
      "text/html": [
       "<div>\n",
       "<style scoped>\n",
       "    .dataframe tbody tr th:only-of-type {\n",
       "        vertical-align: middle;\n",
       "    }\n",
       "\n",
       "    .dataframe tbody tr th {\n",
       "        vertical-align: top;\n",
       "    }\n",
       "\n",
       "    .dataframe thead th {\n",
       "        text-align: right;\n",
       "    }\n",
       "</style>\n",
       "<table border=\"1\" class=\"dataframe\">\n",
       "  <thead>\n",
       "    <tr style=\"text-align: right;\">\n",
       "      <th></th>\n",
       "      <th>duration_sec</th>\n",
       "      <th>start_time</th>\n",
       "      <th>end_time</th>\n",
       "      <th>start_station_id</th>\n",
       "      <th>start_station_name</th>\n",
       "      <th>start_station_latitude</th>\n",
       "      <th>start_station_longitude</th>\n",
       "      <th>end_station_id</th>\n",
       "      <th>end_station_name</th>\n",
       "      <th>end_station_latitude</th>\n",
       "      <th>end_station_longitude</th>\n",
       "      <th>bike_id</th>\n",
       "      <th>user_type</th>\n",
       "      <th>member_birth_year</th>\n",
       "      <th>member_gender</th>\n",
       "      <th>bike_share_for_all_trip</th>\n",
       "    </tr>\n",
       "  </thead>\n",
       "  <tbody>\n",
       "    <tr>\n",
       "      <th>767242</th>\n",
       "      <td>1093</td>\n",
       "      <td>2018-07-10 16:41:56.9110</td>\n",
       "      <td>2018-07-10 17:00:10.7850</td>\n",
       "      <td>77.0</td>\n",
       "      <td>11th St at Natoma St</td>\n",
       "      <td>37.773507</td>\n",
       "      <td>-122.416040</td>\n",
       "      <td>137.0</td>\n",
       "      <td>Jersey St at Castro St</td>\n",
       "      <td>37.750506</td>\n",
       "      <td>-122.433950</td>\n",
       "      <td>3368</td>\n",
       "      <td>Customer</td>\n",
       "      <td>1969.0</td>\n",
       "      <td>Male</td>\n",
       "      <td>No</td>\n",
       "    </tr>\n",
       "    <tr>\n",
       "      <th>1386961</th>\n",
       "      <td>1133</td>\n",
       "      <td>2018-06-08 20:26:47.6120</td>\n",
       "      <td>2018-06-08 20:45:41.3070</td>\n",
       "      <td>160.0</td>\n",
       "      <td>West Oakland BART Station</td>\n",
       "      <td>37.805318</td>\n",
       "      <td>-122.294837</td>\n",
       "      <td>157.0</td>\n",
       "      <td>65th St at Hollis St</td>\n",
       "      <td>37.846784</td>\n",
       "      <td>-122.291376</td>\n",
       "      <td>741</td>\n",
       "      <td>Subscriber</td>\n",
       "      <td>1993.0</td>\n",
       "      <td>Male</td>\n",
       "      <td>No</td>\n",
       "    </tr>\n",
       "    <tr>\n",
       "      <th>969242</th>\n",
       "      <td>318</td>\n",
       "      <td>2018-08-08 09:39:59.1110</td>\n",
       "      <td>2018-08-08 09:45:17.9120</td>\n",
       "      <td>109.0</td>\n",
       "      <td>17th St at Valencia St</td>\n",
       "      <td>37.763316</td>\n",
       "      <td>-122.421904</td>\n",
       "      <td>109.0</td>\n",
       "      <td>17th St at Valencia St</td>\n",
       "      <td>37.763316</td>\n",
       "      <td>-122.421904</td>\n",
       "      <td>2258</td>\n",
       "      <td>Subscriber</td>\n",
       "      <td>1992.0</td>\n",
       "      <td>Male</td>\n",
       "      <td>No</td>\n",
       "    </tr>\n",
       "    <tr>\n",
       "      <th>330374</th>\n",
       "      <td>381</td>\n",
       "      <td>2018-05-29 13:29:49.6010</td>\n",
       "      <td>2018-05-29 13:36:11.5490</td>\n",
       "      <td>116.0</td>\n",
       "      <td>Mississippi St at 17th St</td>\n",
       "      <td>37.764802</td>\n",
       "      <td>-122.394771</td>\n",
       "      <td>81.0</td>\n",
       "      <td>Berry St at 4th St</td>\n",
       "      <td>37.775880</td>\n",
       "      <td>-122.393170</td>\n",
       "      <td>2341</td>\n",
       "      <td>Subscriber</td>\n",
       "      <td>1990.0</td>\n",
       "      <td>Male</td>\n",
       "      <td>No</td>\n",
       "    </tr>\n",
       "    <tr>\n",
       "      <th>1222823</th>\n",
       "      <td>182</td>\n",
       "      <td>2018-01-10 07:03:10.1020</td>\n",
       "      <td>2018-01-10 07:06:12.2080</td>\n",
       "      <td>43.0</td>\n",
       "      <td>San Francisco Public Library (Grove St at Hyde...</td>\n",
       "      <td>37.778768</td>\n",
       "      <td>-122.415929</td>\n",
       "      <td>41.0</td>\n",
       "      <td>Golden Gate Ave at Polk St</td>\n",
       "      <td>37.781270</td>\n",
       "      <td>-122.418740</td>\n",
       "      <td>2379</td>\n",
       "      <td>Subscriber</td>\n",
       "      <td>1979.0</td>\n",
       "      <td>Male</td>\n",
       "      <td>No</td>\n",
       "    </tr>\n",
       "  </tbody>\n",
       "</table>\n",
       "</div>"
      ],
      "text/plain": [
       "         duration_sec                start_time                  end_time  \\\n",
       "767242           1093  2018-07-10 16:41:56.9110  2018-07-10 17:00:10.7850   \n",
       "1386961          1133  2018-06-08 20:26:47.6120  2018-06-08 20:45:41.3070   \n",
       "969242            318  2018-08-08 09:39:59.1110  2018-08-08 09:45:17.9120   \n",
       "330374            381  2018-05-29 13:29:49.6010  2018-05-29 13:36:11.5490   \n",
       "1222823           182  2018-01-10 07:03:10.1020  2018-01-10 07:06:12.2080   \n",
       "\n",
       "         start_station_id                                 start_station_name  \\\n",
       "767242               77.0                               11th St at Natoma St   \n",
       "1386961             160.0                          West Oakland BART Station   \n",
       "969242              109.0                             17th St at Valencia St   \n",
       "330374              116.0                          Mississippi St at 17th St   \n",
       "1222823              43.0  San Francisco Public Library (Grove St at Hyde...   \n",
       "\n",
       "         start_station_latitude  start_station_longitude  end_station_id  \\\n",
       "767242                37.773507              -122.416040           137.0   \n",
       "1386961               37.805318              -122.294837           157.0   \n",
       "969242                37.763316              -122.421904           109.0   \n",
       "330374                37.764802              -122.394771            81.0   \n",
       "1222823               37.778768              -122.415929            41.0   \n",
       "\n",
       "                   end_station_name  end_station_latitude  \\\n",
       "767242       Jersey St at Castro St             37.750506   \n",
       "1386961        65th St at Hollis St             37.846784   \n",
       "969242       17th St at Valencia St             37.763316   \n",
       "330374           Berry St at 4th St             37.775880   \n",
       "1222823  Golden Gate Ave at Polk St             37.781270   \n",
       "\n",
       "         end_station_longitude  bike_id   user_type  member_birth_year  \\\n",
       "767242             -122.433950     3368    Customer             1969.0   \n",
       "1386961            -122.291376      741  Subscriber             1993.0   \n",
       "969242             -122.421904     2258  Subscriber             1992.0   \n",
       "330374             -122.393170     2341  Subscriber             1990.0   \n",
       "1222823            -122.418740     2379  Subscriber             1979.0   \n",
       "\n",
       "        member_gender bike_share_for_all_trip  \n",
       "767242           Male                      No  \n",
       "1386961          Male                      No  \n",
       "969242           Male                      No  \n",
       "330374           Male                      No  \n",
       "1222823          Male                      No  "
      ]
     },
     "execution_count": 2,
     "metadata": {},
     "output_type": "execute_result"
    }
   ],
   "source": [
    "# only ran once to append all monthly trip data together\n",
    "\n",
    "folder_name = 'Data'\n",
    "frames = [pd.read_csv(f) for f in glob.glob(os.path.join(folder_name, '*.csv'))]\n",
    "result = pd.concat(frames, ignore_index=True)\n",
    "print(result.shape)\n",
    "result.sample(5)"
   ]
  },
  {
   "cell_type": "code",
   "execution_count": 3,
   "metadata": {},
   "outputs": [],
   "source": [
    "# save the appended result to a .csv for further usage\n",
    "result.to_csv('fordgobike_trips.csv', index=False)"
   ]
  },
  {
   "cell_type": "code",
   "execution_count": 4,
   "metadata": {},
   "outputs": [
    {
     "data": {
      "text/html": [
       "<div>\n",
       "<style scoped>\n",
       "    .dataframe tbody tr th:only-of-type {\n",
       "        vertical-align: middle;\n",
       "    }\n",
       "\n",
       "    .dataframe tbody tr th {\n",
       "        vertical-align: top;\n",
       "    }\n",
       "\n",
       "    .dataframe thead th {\n",
       "        text-align: right;\n",
       "    }\n",
       "</style>\n",
       "<table border=\"1\" class=\"dataframe\">\n",
       "  <thead>\n",
       "    <tr style=\"text-align: right;\">\n",
       "      <th></th>\n",
       "      <th>duration_sec</th>\n",
       "      <th>start_time</th>\n",
       "      <th>end_time</th>\n",
       "      <th>start_station_id</th>\n",
       "      <th>start_station_name</th>\n",
       "      <th>start_station_latitude</th>\n",
       "      <th>start_station_longitude</th>\n",
       "      <th>end_station_id</th>\n",
       "      <th>end_station_name</th>\n",
       "      <th>end_station_latitude</th>\n",
       "      <th>end_station_longitude</th>\n",
       "      <th>bike_id</th>\n",
       "      <th>user_type</th>\n",
       "      <th>member_birth_year</th>\n",
       "      <th>member_gender</th>\n",
       "      <th>bike_share_for_all_trip</th>\n",
       "    </tr>\n",
       "  </thead>\n",
       "  <tbody>\n",
       "    <tr>\n",
       "      <th>0</th>\n",
       "      <td>71766</td>\n",
       "      <td>2018-03-31 16:58:33.1490</td>\n",
       "      <td>2018-04-01 12:54:39.2630</td>\n",
       "      <td>4.0</td>\n",
       "      <td>Cyril Magnin St at Ellis St</td>\n",
       "      <td>37.785881</td>\n",
       "      <td>-122.408915</td>\n",
       "      <td>6.0</td>\n",
       "      <td>The Embarcadero at Sansome St</td>\n",
       "      <td>37.804770</td>\n",
       "      <td>-122.403234</td>\n",
       "      <td>341</td>\n",
       "      <td>Customer</td>\n",
       "      <td>1964.0</td>\n",
       "      <td>Female</td>\n",
       "      <td>No</td>\n",
       "    </tr>\n",
       "    <tr>\n",
       "      <th>1</th>\n",
       "      <td>62569</td>\n",
       "      <td>2018-03-31 19:03:35.9160</td>\n",
       "      <td>2018-04-01 12:26:25.0350</td>\n",
       "      <td>78.0</td>\n",
       "      <td>Folsom St at 9th St</td>\n",
       "      <td>37.773717</td>\n",
       "      <td>-122.411647</td>\n",
       "      <td>47.0</td>\n",
       "      <td>4th St at Harrison St</td>\n",
       "      <td>37.780955</td>\n",
       "      <td>-122.399749</td>\n",
       "      <td>536</td>\n",
       "      <td>Subscriber</td>\n",
       "      <td>1984.0</td>\n",
       "      <td>Male</td>\n",
       "      <td>No</td>\n",
       "    </tr>\n",
       "    <tr>\n",
       "      <th>2</th>\n",
       "      <td>56221</td>\n",
       "      <td>2018-03-31 20:13:13.5640</td>\n",
       "      <td>2018-04-01 11:50:14.8400</td>\n",
       "      <td>258.0</td>\n",
       "      <td>University Ave at Oxford St</td>\n",
       "      <td>37.872355</td>\n",
       "      <td>-122.266447</td>\n",
       "      <td>239.0</td>\n",
       "      <td>Bancroft Way at Telegraph Ave</td>\n",
       "      <td>37.868813</td>\n",
       "      <td>-122.258764</td>\n",
       "      <td>3245</td>\n",
       "      <td>Customer</td>\n",
       "      <td>1983.0</td>\n",
       "      <td>Male</td>\n",
       "      <td>No</td>\n",
       "    </tr>\n",
       "    <tr>\n",
       "      <th>3</th>\n",
       "      <td>85844</td>\n",
       "      <td>2018-03-31 11:28:07.6580</td>\n",
       "      <td>2018-04-01 11:18:52.6130</td>\n",
       "      <td>186.0</td>\n",
       "      <td>Lakeside Dr at 14th St</td>\n",
       "      <td>37.801319</td>\n",
       "      <td>-122.262642</td>\n",
       "      <td>340.0</td>\n",
       "      <td>Harmon St at Adeline St</td>\n",
       "      <td>37.849735</td>\n",
       "      <td>-122.270582</td>\n",
       "      <td>3722</td>\n",
       "      <td>Customer</td>\n",
       "      <td>NaN</td>\n",
       "      <td>NaN</td>\n",
       "      <td>No</td>\n",
       "    </tr>\n",
       "    <tr>\n",
       "      <th>4</th>\n",
       "      <td>1566</td>\n",
       "      <td>2018-03-31 23:37:56.6400</td>\n",
       "      <td>2018-04-01 00:04:02.8930</td>\n",
       "      <td>193.0</td>\n",
       "      <td>Grand Ave at Santa Clara Ave</td>\n",
       "      <td>37.812744</td>\n",
       "      <td>-122.247215</td>\n",
       "      <td>196.0</td>\n",
       "      <td>Grand Ave at Perkins St</td>\n",
       "      <td>37.808894</td>\n",
       "      <td>-122.256460</td>\n",
       "      <td>2355</td>\n",
       "      <td>Subscriber</td>\n",
       "      <td>1979.0</td>\n",
       "      <td>Male</td>\n",
       "      <td>No</td>\n",
       "    </tr>\n",
       "  </tbody>\n",
       "</table>\n",
       "</div>"
      ],
      "text/plain": [
       "   duration_sec                start_time                  end_time  \\\n",
       "0         71766  2018-03-31 16:58:33.1490  2018-04-01 12:54:39.2630   \n",
       "1         62569  2018-03-31 19:03:35.9160  2018-04-01 12:26:25.0350   \n",
       "2         56221  2018-03-31 20:13:13.5640  2018-04-01 11:50:14.8400   \n",
       "3         85844  2018-03-31 11:28:07.6580  2018-04-01 11:18:52.6130   \n",
       "4          1566  2018-03-31 23:37:56.6400  2018-04-01 00:04:02.8930   \n",
       "\n",
       "   start_station_id            start_station_name  start_station_latitude  \\\n",
       "0               4.0   Cyril Magnin St at Ellis St               37.785881   \n",
       "1              78.0           Folsom St at 9th St               37.773717   \n",
       "2             258.0   University Ave at Oxford St               37.872355   \n",
       "3             186.0        Lakeside Dr at 14th St               37.801319   \n",
       "4             193.0  Grand Ave at Santa Clara Ave               37.812744   \n",
       "\n",
       "   start_station_longitude  end_station_id               end_station_name  \\\n",
       "0              -122.408915             6.0  The Embarcadero at Sansome St   \n",
       "1              -122.411647            47.0          4th St at Harrison St   \n",
       "2              -122.266447           239.0  Bancroft Way at Telegraph Ave   \n",
       "3              -122.262642           340.0        Harmon St at Adeline St   \n",
       "4              -122.247215           196.0        Grand Ave at Perkins St   \n",
       "\n",
       "   end_station_latitude  end_station_longitude  bike_id   user_type  \\\n",
       "0             37.804770            -122.403234      341    Customer   \n",
       "1             37.780955            -122.399749      536  Subscriber   \n",
       "2             37.868813            -122.258764     3245    Customer   \n",
       "3             37.849735            -122.270582     3722    Customer   \n",
       "4             37.808894            -122.256460     2355  Subscriber   \n",
       "\n",
       "   member_birth_year member_gender bike_share_for_all_trip  \n",
       "0             1964.0        Female                      No  \n",
       "1             1984.0          Male                      No  \n",
       "2             1983.0          Male                      No  \n",
       "3                NaN           NaN                      No  \n",
       "4             1979.0          Male                      No  "
      ]
     },
     "execution_count": 4,
     "metadata": {},
     "output_type": "execute_result"
    }
   ],
   "source": [
    "# Showing the first five rows of the newly combined dataset\n",
    "df = pd.read_csv('fordgobike_trips.csv')\n",
    "df.head()"
   ]
  },
  {
   "cell_type": "code",
   "execution_count": 5,
   "metadata": {},
   "outputs": [
    {
     "data": {
      "text/html": [
       "<div>\n",
       "<style scoped>\n",
       "    .dataframe tbody tr th:only-of-type {\n",
       "        vertical-align: middle;\n",
       "    }\n",
       "\n",
       "    .dataframe tbody tr th {\n",
       "        vertical-align: top;\n",
       "    }\n",
       "\n",
       "    .dataframe thead th {\n",
       "        text-align: right;\n",
       "    }\n",
       "</style>\n",
       "<table border=\"1\" class=\"dataframe\">\n",
       "  <thead>\n",
       "    <tr style=\"text-align: right;\">\n",
       "      <th></th>\n",
       "      <th>duration_sec</th>\n",
       "      <th>start_time</th>\n",
       "      <th>end_time</th>\n",
       "      <th>start_station_id</th>\n",
       "      <th>start_station_name</th>\n",
       "      <th>start_station_latitude</th>\n",
       "      <th>start_station_longitude</th>\n",
       "      <th>end_station_id</th>\n",
       "      <th>end_station_name</th>\n",
       "      <th>end_station_latitude</th>\n",
       "      <th>end_station_longitude</th>\n",
       "      <th>bike_id</th>\n",
       "      <th>user_type</th>\n",
       "      <th>member_birth_year</th>\n",
       "      <th>member_gender</th>\n",
       "      <th>bike_share_for_all_trip</th>\n",
       "    </tr>\n",
       "  </thead>\n",
       "  <tbody>\n",
       "    <tr>\n",
       "      <th>1120276</th>\n",
       "      <td>385</td>\n",
       "      <td>2018-11-05 18:33:20.5440</td>\n",
       "      <td>2018-11-05 18:39:46.0150</td>\n",
       "      <td>90.0</td>\n",
       "      <td>Townsend St at 7th St</td>\n",
       "      <td>37.771058</td>\n",
       "      <td>-122.402717</td>\n",
       "      <td>116.0</td>\n",
       "      <td>Mississippi St at 17th St</td>\n",
       "      <td>37.764802</td>\n",
       "      <td>-122.394771</td>\n",
       "      <td>465</td>\n",
       "      <td>Subscriber</td>\n",
       "      <td>1992.0</td>\n",
       "      <td>Female</td>\n",
       "      <td>No</td>\n",
       "    </tr>\n",
       "    <tr>\n",
       "      <th>129500</th>\n",
       "      <td>651</td>\n",
       "      <td>2018-10-29 15:31:57.8910</td>\n",
       "      <td>2018-10-29 15:42:49.1160</td>\n",
       "      <td>53.0</td>\n",
       "      <td>Grove St at Divisadero</td>\n",
       "      <td>37.775946</td>\n",
       "      <td>-122.437777</td>\n",
       "      <td>109.0</td>\n",
       "      <td>17th St at Valencia St</td>\n",
       "      <td>37.763316</td>\n",
       "      <td>-122.421904</td>\n",
       "      <td>3017</td>\n",
       "      <td>Subscriber</td>\n",
       "      <td>1982.0</td>\n",
       "      <td>Male</td>\n",
       "      <td>No</td>\n",
       "    </tr>\n",
       "    <tr>\n",
       "      <th>970242</th>\n",
       "      <td>622</td>\n",
       "      <td>2018-08-08 08:28:20.3650</td>\n",
       "      <td>2018-08-08 08:38:42.8950</td>\n",
       "      <td>81.0</td>\n",
       "      <td>Berry St at 4th St</td>\n",
       "      <td>37.775880</td>\n",
       "      <td>-122.393170</td>\n",
       "      <td>16.0</td>\n",
       "      <td>Steuart St at Market St</td>\n",
       "      <td>37.794130</td>\n",
       "      <td>-122.394430</td>\n",
       "      <td>3642</td>\n",
       "      <td>Subscriber</td>\n",
       "      <td>1993.0</td>\n",
       "      <td>Male</td>\n",
       "      <td>No</td>\n",
       "    </tr>\n",
       "    <tr>\n",
       "      <th>1809184</th>\n",
       "      <td>2802</td>\n",
       "      <td>2018-09-10 19:38:19.0520</td>\n",
       "      <td>2018-09-10 20:25:01.1160</td>\n",
       "      <td>4.0</td>\n",
       "      <td>Cyril Magnin St at Ellis St</td>\n",
       "      <td>37.785881</td>\n",
       "      <td>-122.408915</td>\n",
       "      <td>76.0</td>\n",
       "      <td>McCoppin St at Valencia St</td>\n",
       "      <td>37.771662</td>\n",
       "      <td>-122.422423</td>\n",
       "      <td>3333</td>\n",
       "      <td>Subscriber</td>\n",
       "      <td>1999.0</td>\n",
       "      <td>Male</td>\n",
       "      <td>No</td>\n",
       "    </tr>\n",
       "    <tr>\n",
       "      <th>412798</th>\n",
       "      <td>169</td>\n",
       "      <td>2018-05-14 17:57:33.3080</td>\n",
       "      <td>2018-05-14 18:00:22.7780</td>\n",
       "      <td>183.0</td>\n",
       "      <td>Telegraph Ave at 19th St</td>\n",
       "      <td>37.808702</td>\n",
       "      <td>-122.269927</td>\n",
       "      <td>180.0</td>\n",
       "      <td>Telegraph Ave at 23rd St</td>\n",
       "      <td>37.812678</td>\n",
       "      <td>-122.268773</td>\n",
       "      <td>3502</td>\n",
       "      <td>Subscriber</td>\n",
       "      <td>1989.0</td>\n",
       "      <td>Male</td>\n",
       "      <td>No</td>\n",
       "    </tr>\n",
       "    <tr>\n",
       "      <th>1567787</th>\n",
       "      <td>944</td>\n",
       "      <td>2018-12-23 17:07:07.6880</td>\n",
       "      <td>2018-12-23 17:22:52.0710</td>\n",
       "      <td>5.0</td>\n",
       "      <td>Powell St BART Station (Market St at 5th St)</td>\n",
       "      <td>37.783899</td>\n",
       "      <td>-122.408445</td>\n",
       "      <td>375.0</td>\n",
       "      <td>Grove St at Masonic Ave</td>\n",
       "      <td>37.774836</td>\n",
       "      <td>-122.446546</td>\n",
       "      <td>5424</td>\n",
       "      <td>Subscriber</td>\n",
       "      <td>1988.0</td>\n",
       "      <td>Female</td>\n",
       "      <td>No</td>\n",
       "    </tr>\n",
       "    <tr>\n",
       "      <th>549598</th>\n",
       "      <td>561</td>\n",
       "      <td>2018-04-19 08:06:18.4110</td>\n",
       "      <td>2018-04-19 08:15:39.8190</td>\n",
       "      <td>25.0</td>\n",
       "      <td>Howard St at 2nd St</td>\n",
       "      <td>37.787522</td>\n",
       "      <td>-122.397405</td>\n",
       "      <td>58.0</td>\n",
       "      <td>Market St at 10th St</td>\n",
       "      <td>37.776619</td>\n",
       "      <td>-122.417385</td>\n",
       "      <td>2412</td>\n",
       "      <td>Subscriber</td>\n",
       "      <td>1981.0</td>\n",
       "      <td>Male</td>\n",
       "      <td>No</td>\n",
       "    </tr>\n",
       "    <tr>\n",
       "      <th>1019699</th>\n",
       "      <td>1401</td>\n",
       "      <td>2018-11-30 07:44:39.4580</td>\n",
       "      <td>2018-11-30 08:08:01.0870</td>\n",
       "      <td>156.0</td>\n",
       "      <td>Stanford Ave at Hollis St</td>\n",
       "      <td>37.838443</td>\n",
       "      <td>-122.288665</td>\n",
       "      <td>246.0</td>\n",
       "      <td>Berkeley Civic Center</td>\n",
       "      <td>37.869060</td>\n",
       "      <td>-122.270556</td>\n",
       "      <td>1129</td>\n",
       "      <td>Subscriber</td>\n",
       "      <td>1976.0</td>\n",
       "      <td>Female</td>\n",
       "      <td>No</td>\n",
       "    </tr>\n",
       "    <tr>\n",
       "      <th>969419</th>\n",
       "      <td>771</td>\n",
       "      <td>2018-08-08 09:17:27.1540</td>\n",
       "      <td>2018-08-08 09:30:18.3840</td>\n",
       "      <td>119.0</td>\n",
       "      <td>18th St at Noe St</td>\n",
       "      <td>37.761047</td>\n",
       "      <td>-122.432642</td>\n",
       "      <td>89.0</td>\n",
       "      <td>Division St at Potrero Ave</td>\n",
       "      <td>37.769218</td>\n",
       "      <td>-122.407646</td>\n",
       "      <td>1011</td>\n",
       "      <td>Subscriber</td>\n",
       "      <td>1992.0</td>\n",
       "      <td>Male</td>\n",
       "      <td>No</td>\n",
       "    </tr>\n",
       "    <tr>\n",
       "      <th>373902</th>\n",
       "      <td>648</td>\n",
       "      <td>2018-05-21 13:45:09.5410</td>\n",
       "      <td>2018-05-21 13:55:58.3160</td>\n",
       "      <td>25.0</td>\n",
       "      <td>Howard St at 2nd St</td>\n",
       "      <td>37.787522</td>\n",
       "      <td>-122.397405</td>\n",
       "      <td>350.0</td>\n",
       "      <td>8th St at Brannan St</td>\n",
       "      <td>37.771431</td>\n",
       "      <td>-122.405787</td>\n",
       "      <td>2451</td>\n",
       "      <td>Subscriber</td>\n",
       "      <td>1975.0</td>\n",
       "      <td>Male</td>\n",
       "      <td>No</td>\n",
       "    </tr>\n",
       "  </tbody>\n",
       "</table>\n",
       "</div>"
      ],
      "text/plain": [
       "         duration_sec                start_time                  end_time  \\\n",
       "1120276           385  2018-11-05 18:33:20.5440  2018-11-05 18:39:46.0150   \n",
       "129500            651  2018-10-29 15:31:57.8910  2018-10-29 15:42:49.1160   \n",
       "970242            622  2018-08-08 08:28:20.3650  2018-08-08 08:38:42.8950   \n",
       "1809184          2802  2018-09-10 19:38:19.0520  2018-09-10 20:25:01.1160   \n",
       "412798            169  2018-05-14 17:57:33.3080  2018-05-14 18:00:22.7780   \n",
       "1567787           944  2018-12-23 17:07:07.6880  2018-12-23 17:22:52.0710   \n",
       "549598            561  2018-04-19 08:06:18.4110  2018-04-19 08:15:39.8190   \n",
       "1019699          1401  2018-11-30 07:44:39.4580  2018-11-30 08:08:01.0870   \n",
       "969419            771  2018-08-08 09:17:27.1540  2018-08-08 09:30:18.3840   \n",
       "373902            648  2018-05-21 13:45:09.5410  2018-05-21 13:55:58.3160   \n",
       "\n",
       "         start_station_id                            start_station_name  \\\n",
       "1120276              90.0                         Townsend St at 7th St   \n",
       "129500               53.0                        Grove St at Divisadero   \n",
       "970242               81.0                            Berry St at 4th St   \n",
       "1809184               4.0                   Cyril Magnin St at Ellis St   \n",
       "412798              183.0                      Telegraph Ave at 19th St   \n",
       "1567787               5.0  Powell St BART Station (Market St at 5th St)   \n",
       "549598               25.0                           Howard St at 2nd St   \n",
       "1019699             156.0                     Stanford Ave at Hollis St   \n",
       "969419              119.0                             18th St at Noe St   \n",
       "373902               25.0                           Howard St at 2nd St   \n",
       "\n",
       "         start_station_latitude  start_station_longitude  end_station_id  \\\n",
       "1120276               37.771058              -122.402717           116.0   \n",
       "129500                37.775946              -122.437777           109.0   \n",
       "970242                37.775880              -122.393170            16.0   \n",
       "1809184               37.785881              -122.408915            76.0   \n",
       "412798                37.808702              -122.269927           180.0   \n",
       "1567787               37.783899              -122.408445           375.0   \n",
       "549598                37.787522              -122.397405            58.0   \n",
       "1019699               37.838443              -122.288665           246.0   \n",
       "969419                37.761047              -122.432642            89.0   \n",
       "373902                37.787522              -122.397405           350.0   \n",
       "\n",
       "                   end_station_name  end_station_latitude  \\\n",
       "1120276   Mississippi St at 17th St             37.764802   \n",
       "129500       17th St at Valencia St             37.763316   \n",
       "970242      Steuart St at Market St             37.794130   \n",
       "1809184  McCoppin St at Valencia St             37.771662   \n",
       "412798     Telegraph Ave at 23rd St             37.812678   \n",
       "1567787     Grove St at Masonic Ave             37.774836   \n",
       "549598         Market St at 10th St             37.776619   \n",
       "1019699       Berkeley Civic Center             37.869060   \n",
       "969419   Division St at Potrero Ave             37.769218   \n",
       "373902         8th St at Brannan St             37.771431   \n",
       "\n",
       "         end_station_longitude  bike_id   user_type  member_birth_year  \\\n",
       "1120276            -122.394771      465  Subscriber             1992.0   \n",
       "129500             -122.421904     3017  Subscriber             1982.0   \n",
       "970242             -122.394430     3642  Subscriber             1993.0   \n",
       "1809184            -122.422423     3333  Subscriber             1999.0   \n",
       "412798             -122.268773     3502  Subscriber             1989.0   \n",
       "1567787            -122.446546     5424  Subscriber             1988.0   \n",
       "549598             -122.417385     2412  Subscriber             1981.0   \n",
       "1019699            -122.270556     1129  Subscriber             1976.0   \n",
       "969419             -122.407646     1011  Subscriber             1992.0   \n",
       "373902             -122.405787     2451  Subscriber             1975.0   \n",
       "\n",
       "        member_gender bike_share_for_all_trip  \n",
       "1120276        Female                      No  \n",
       "129500           Male                      No  \n",
       "970242           Male                      No  \n",
       "1809184          Male                      No  \n",
       "412798           Male                      No  \n",
       "1567787        Female                      No  \n",
       "549598           Male                      No  \n",
       "1019699        Female                      No  \n",
       "969419           Male                      No  \n",
       "373902           Male                      No  "
      ]
     },
     "execution_count": 5,
     "metadata": {},
     "output_type": "execute_result"
    }
   ],
   "source": [
    "# Sampling the data helps the analyst understand the required cleaning needed, and get a feel for the data\n",
    "df.sample(10)"
   ]
  },
  {
   "cell_type": "code",
   "execution_count": 6,
   "metadata": {},
   "outputs": [
    {
     "name": "stdout",
     "output_type": "stream",
     "text": [
      "<class 'pandas.core.frame.DataFrame'>\n",
      "RangeIndex: 1863721 entries, 0 to 1863720\n",
      "Data columns (total 16 columns):\n",
      " #   Column                   Non-Null Count    Dtype  \n",
      "---  ------                   --------------    -----  \n",
      " 0   duration_sec             1863721 non-null  int64  \n",
      " 1   start_time               1863721 non-null  object \n",
      " 2   end_time                 1863721 non-null  object \n",
      " 3   start_station_id         1851950 non-null  float64\n",
      " 4   start_station_name       1851950 non-null  object \n",
      " 5   start_station_latitude   1863721 non-null  float64\n",
      " 6   start_station_longitude  1863721 non-null  float64\n",
      " 7   end_station_id           1851950 non-null  float64\n",
      " 8   end_station_name         1851950 non-null  object \n",
      " 9   end_station_latitude     1863721 non-null  float64\n",
      " 10  end_station_longitude    1863721 non-null  float64\n",
      " 11  bike_id                  1863721 non-null  int64  \n",
      " 12  user_type                1863721 non-null  object \n",
      " 13  member_birth_year        1753003 non-null  float64\n",
      " 14  member_gender            1753354 non-null  object \n",
      " 15  bike_share_for_all_trip  1863721 non-null  object \n",
      "dtypes: float64(7), int64(2), object(7)\n",
      "memory usage: 227.5+ MB\n"
     ]
    }
   ],
   "source": [
    "# Let's take a peak into the data's basic information\n",
    "df.info(null_counts = True)"
   ]
  },
  {
   "cell_type": "code",
   "execution_count": 7,
   "metadata": {},
   "outputs": [
    {
     "data": {
      "text/plain": [
       "(1863721, 16)"
      ]
     },
     "execution_count": 7,
     "metadata": {},
     "output_type": "execute_result"
    }
   ],
   "source": [
    "df.shape"
   ]
  },
  {
   "cell_type": "code",
   "execution_count": 8,
   "metadata": {},
   "outputs": [
    {
     "data": {
      "text/html": [
       "<div>\n",
       "<style scoped>\n",
       "    .dataframe tbody tr th:only-of-type {\n",
       "        vertical-align: middle;\n",
       "    }\n",
       "\n",
       "    .dataframe tbody tr th {\n",
       "        vertical-align: top;\n",
       "    }\n",
       "\n",
       "    .dataframe thead th {\n",
       "        text-align: right;\n",
       "    }\n",
       "</style>\n",
       "<table border=\"1\" class=\"dataframe\">\n",
       "  <thead>\n",
       "    <tr style=\"text-align: right;\">\n",
       "      <th></th>\n",
       "      <th>duration_sec</th>\n",
       "      <th>start_station_id</th>\n",
       "      <th>start_station_latitude</th>\n",
       "      <th>start_station_longitude</th>\n",
       "      <th>end_station_id</th>\n",
       "      <th>end_station_latitude</th>\n",
       "      <th>end_station_longitude</th>\n",
       "      <th>bike_id</th>\n",
       "      <th>member_birth_year</th>\n",
       "    </tr>\n",
       "  </thead>\n",
       "  <tbody>\n",
       "    <tr>\n",
       "      <th>count</th>\n",
       "      <td>1.863721e+06</td>\n",
       "      <td>1.851950e+06</td>\n",
       "      <td>1.863721e+06</td>\n",
       "      <td>1.863721e+06</td>\n",
       "      <td>1.851950e+06</td>\n",
       "      <td>1.863721e+06</td>\n",
       "      <td>1.863721e+06</td>\n",
       "      <td>1.863721e+06</td>\n",
       "      <td>1.753003e+06</td>\n",
       "    </tr>\n",
       "    <tr>\n",
       "      <th>mean</th>\n",
       "      <td>8.573026e+02</td>\n",
       "      <td>1.196744e+02</td>\n",
       "      <td>3.776678e+01</td>\n",
       "      <td>-1.223492e+02</td>\n",
       "      <td>1.181730e+02</td>\n",
       "      <td>3.776690e+01</td>\n",
       "      <td>-1.223487e+02</td>\n",
       "      <td>2.296851e+03</td>\n",
       "      <td>1.983088e+03</td>\n",
       "    </tr>\n",
       "    <tr>\n",
       "      <th>std</th>\n",
       "      <td>2.370379e+03</td>\n",
       "      <td>1.003976e+02</td>\n",
       "      <td>1.057689e-01</td>\n",
       "      <td>1.654634e-01</td>\n",
       "      <td>1.004403e+02</td>\n",
       "      <td>1.056483e-01</td>\n",
       "      <td>1.650597e-01</td>\n",
       "      <td>1.287733e+03</td>\n",
       "      <td>1.044289e+01</td>\n",
       "    </tr>\n",
       "    <tr>\n",
       "      <th>min</th>\n",
       "      <td>6.100000e+01</td>\n",
       "      <td>3.000000e+00</td>\n",
       "      <td>3.726331e+01</td>\n",
       "      <td>-1.224737e+02</td>\n",
       "      <td>3.000000e+00</td>\n",
       "      <td>3.726331e+01</td>\n",
       "      <td>-1.224737e+02</td>\n",
       "      <td>1.100000e+01</td>\n",
       "      <td>1.881000e+03</td>\n",
       "    </tr>\n",
       "    <tr>\n",
       "      <th>25%</th>\n",
       "      <td>3.500000e+02</td>\n",
       "      <td>3.300000e+01</td>\n",
       "      <td>3.777106e+01</td>\n",
       "      <td>-1.224114e+02</td>\n",
       "      <td>3.000000e+01</td>\n",
       "      <td>3.777106e+01</td>\n",
       "      <td>-1.224094e+02</td>\n",
       "      <td>1.225000e+03</td>\n",
       "      <td>1.978000e+03</td>\n",
       "    </tr>\n",
       "    <tr>\n",
       "      <th>50%</th>\n",
       "      <td>5.560000e+02</td>\n",
       "      <td>8.900000e+01</td>\n",
       "      <td>3.778107e+01</td>\n",
       "      <td>-1.223974e+02</td>\n",
       "      <td>8.800000e+01</td>\n",
       "      <td>3.778127e+01</td>\n",
       "      <td>-1.223971e+02</td>\n",
       "      <td>2.338000e+03</td>\n",
       "      <td>1.985000e+03</td>\n",
       "    </tr>\n",
       "    <tr>\n",
       "      <th>75%</th>\n",
       "      <td>8.720000e+02</td>\n",
       "      <td>1.860000e+02</td>\n",
       "      <td>3.779625e+01</td>\n",
       "      <td>-1.222865e+02</td>\n",
       "      <td>1.830000e+02</td>\n",
       "      <td>3.779728e+01</td>\n",
       "      <td>-1.222894e+02</td>\n",
       "      <td>3.333000e+03</td>\n",
       "      <td>1.991000e+03</td>\n",
       "    </tr>\n",
       "    <tr>\n",
       "      <th>max</th>\n",
       "      <td>8.636600e+04</td>\n",
       "      <td>3.810000e+02</td>\n",
       "      <td>4.551000e+01</td>\n",
       "      <td>-7.357000e+01</td>\n",
       "      <td>3.810000e+02</td>\n",
       "      <td>4.551000e+01</td>\n",
       "      <td>-7.357000e+01</td>\n",
       "      <td>6.234000e+03</td>\n",
       "      <td>2.000000e+03</td>\n",
       "    </tr>\n",
       "  </tbody>\n",
       "</table>\n",
       "</div>"
      ],
      "text/plain": [
       "       duration_sec  start_station_id  start_station_latitude  \\\n",
       "count  1.863721e+06      1.851950e+06            1.863721e+06   \n",
       "mean   8.573026e+02      1.196744e+02            3.776678e+01   \n",
       "std    2.370379e+03      1.003976e+02            1.057689e-01   \n",
       "min    6.100000e+01      3.000000e+00            3.726331e+01   \n",
       "25%    3.500000e+02      3.300000e+01            3.777106e+01   \n",
       "50%    5.560000e+02      8.900000e+01            3.778107e+01   \n",
       "75%    8.720000e+02      1.860000e+02            3.779625e+01   \n",
       "max    8.636600e+04      3.810000e+02            4.551000e+01   \n",
       "\n",
       "       start_station_longitude  end_station_id  end_station_latitude  \\\n",
       "count             1.863721e+06    1.851950e+06          1.863721e+06   \n",
       "mean             -1.223492e+02    1.181730e+02          3.776690e+01   \n",
       "std               1.654634e-01    1.004403e+02          1.056483e-01   \n",
       "min              -1.224737e+02    3.000000e+00          3.726331e+01   \n",
       "25%              -1.224114e+02    3.000000e+01          3.777106e+01   \n",
       "50%              -1.223974e+02    8.800000e+01          3.778127e+01   \n",
       "75%              -1.222865e+02    1.830000e+02          3.779728e+01   \n",
       "max              -7.357000e+01    3.810000e+02          4.551000e+01   \n",
       "\n",
       "       end_station_longitude       bike_id  member_birth_year  \n",
       "count           1.863721e+06  1.863721e+06       1.753003e+06  \n",
       "mean           -1.223487e+02  2.296851e+03       1.983088e+03  \n",
       "std             1.650597e-01  1.287733e+03       1.044289e+01  \n",
       "min            -1.224737e+02  1.100000e+01       1.881000e+03  \n",
       "25%            -1.224094e+02  1.225000e+03       1.978000e+03  \n",
       "50%            -1.223971e+02  2.338000e+03       1.985000e+03  \n",
       "75%            -1.222894e+02  3.333000e+03       1.991000e+03  \n",
       "max            -7.357000e+01  6.234000e+03       2.000000e+03  "
      ]
     },
     "execution_count": 8,
     "metadata": {},
     "output_type": "execute_result"
    }
   ],
   "source": [
    "# Let's also get some additional description for stats figures\n",
    "df.describe()"
   ]
  },
  {
   "cell_type": "code",
   "execution_count": 9,
   "metadata": {},
   "outputs": [
    {
     "data": {
      "text/plain": [
       "0"
      ]
     },
     "execution_count": 9,
     "metadata": {},
     "output_type": "execute_result"
    }
   ],
   "source": [
    "# Any duplicates?\n",
    "df.duplicated().sum()\n",
    "# No duplicates here - that was straightforward"
   ]
  },
  {
   "cell_type": "code",
   "execution_count": 10,
   "metadata": {},
   "outputs": [
    {
     "data": {
      "text/plain": [
       "duration_sec                    0\n",
       "start_time                      0\n",
       "end_time                        0\n",
       "start_station_id            11771\n",
       "start_station_name          11771\n",
       "start_station_latitude          0\n",
       "start_station_longitude         0\n",
       "end_station_id              11771\n",
       "end_station_name            11771\n",
       "end_station_latitude            0\n",
       "end_station_longitude           0\n",
       "bike_id                         0\n",
       "user_type                       0\n",
       "member_birth_year          110718\n",
       "member_gender              110367\n",
       "bike_share_for_all_trip         0\n",
       "dtype: int64"
      ]
     },
     "execution_count": 10,
     "metadata": {},
     "output_type": "execute_result"
    }
   ],
   "source": [
    "# What about NaN values?\n",
    "df.isna().sum()\n",
    "# It looks like some of the starting and ending values are NaN, along with member birth years and genders"
   ]
  },
  {
   "cell_type": "markdown",
   "metadata": {},
   "source": [
    "### Cleaning"
   ]
  },
  {
   "cell_type": "markdown",
   "metadata": {},
   "source": [
    "Before assessing the data to draw conclusions, there are some quality issues (this dataset is tidy) that need to be cleaned (from left to right):\n",
    "- There are missing values throughout the dataset (start_station_id, start_station_name, end_station_id, end_station_name, member_birth_year, member_gender)\n",
    "- Start/end times are not in the timestamp format\n",
    "- The following columns are not in object format: \n",
    "  - start_station_id\n",
    "  - end_station_id\n",
    "  - bike_id\n",
    "- Member birth is in the float format, but should be converted to integer format\n",
    "- Member birthdates have a few inaccurate values"
   ]
  },
  {
   "cell_type": "code",
   "execution_count": 11,
   "metadata": {},
   "outputs": [],
   "source": [
    "# Save the original data set and save as a new, cleaned version while I clean things up\n",
    "df_cleaned = df.copy()"
   ]
  },
  {
   "cell_type": "markdown",
   "metadata": {},
   "source": [
    "##### Define: Missing values - I will hold on cleaning these up until later. It may or may not present an issue. \n",
    "##### Code: N/A\n",
    "##### Test: N/A"
   ]
  },
  {
   "cell_type": "markdown",
   "metadata": {},
   "source": [
    "##### Define: Converting several of the columns to the appropriate data type:\n",
    "- Starting and ending times to the timestamp format\n",
    "- User type, gender, and bike share for all to category format\n",
    "- Bike ID, start station ID, and end station ID to object format"
   ]
  },
  {
   "cell_type": "markdown",
   "metadata": {},
   "source": [
    "##### Code: see below"
   ]
  },
  {
   "cell_type": "code",
   "execution_count": 12,
   "metadata": {},
   "outputs": [],
   "source": [
    "# Changing the format to datetime\n",
    "df_cleaned.start_time = pd.to_datetime(df_cleaned.start_time)\n",
    "df_cleaned.end_time = pd.to_datetime(df_cleaned.end_time)"
   ]
  },
  {
   "cell_type": "code",
   "execution_count": 13,
   "metadata": {},
   "outputs": [],
   "source": [
    "# Changing the user_type, member_gender, and bike_share_for_all_trip to category format\n",
    "df_cleaned.user_type = df_cleaned.user_type.astype('category')\n",
    "df_cleaned.member_gender = df_cleaned.member_gender.astype('category')\n",
    "df_cleaned.bike_share_for_all_trip = df_cleaned.bike_share_for_all_trip.astype('category')"
   ]
  },
  {
   "cell_type": "code",
   "execution_count": 14,
   "metadata": {},
   "outputs": [],
   "source": [
    "# Changing the bike_id, start_station_id, and end_station_id to object\n",
    "df_cleaned.bike_id = df_cleaned.bike_id.astype(str)\n",
    "df_cleaned.start_station_id = df_cleaned.start_station_id.astype(str)\n",
    "df_cleaned.end_station_id = df_cleaned.end_station_id.astype(str)"
   ]
  },
  {
   "cell_type": "markdown",
   "metadata": {},
   "source": [
    "##### Test: "
   ]
  },
  {
   "cell_type": "code",
   "execution_count": 15,
   "metadata": {},
   "outputs": [
    {
     "name": "stdout",
     "output_type": "stream",
     "text": [
      "<class 'pandas.core.frame.DataFrame'>\n",
      "RangeIndex: 1863721 entries, 0 to 1863720\n",
      "Data columns (total 16 columns):\n",
      " #   Column                   Non-Null Count    Dtype         \n",
      "---  ------                   --------------    -----         \n",
      " 0   duration_sec             1863721 non-null  int64         \n",
      " 1   start_time               1863721 non-null  datetime64[ns]\n",
      " 2   end_time                 1863721 non-null  datetime64[ns]\n",
      " 3   start_station_id         1863721 non-null  object        \n",
      " 4   start_station_name       1851950 non-null  object        \n",
      " 5   start_station_latitude   1863721 non-null  float64       \n",
      " 6   start_station_longitude  1863721 non-null  float64       \n",
      " 7   end_station_id           1863721 non-null  object        \n",
      " 8   end_station_name         1851950 non-null  object        \n",
      " 9   end_station_latitude     1863721 non-null  float64       \n",
      " 10  end_station_longitude    1863721 non-null  float64       \n",
      " 11  bike_id                  1863721 non-null  object        \n",
      " 12  user_type                1863721 non-null  category      \n",
      " 13  member_birth_year        1753003 non-null  float64       \n",
      " 14  member_gender            1753354 non-null  category      \n",
      " 15  bike_share_for_all_trip  1863721 non-null  category      \n",
      "dtypes: category(3), datetime64[ns](2), float64(5), int64(1), object(5)\n",
      "memory usage: 190.2+ MB\n"
     ]
    }
   ],
   "source": [
    "df_cleaned.info(null_counts = True)"
   ]
  },
  {
   "cell_type": "markdown",
   "metadata": {},
   "source": [
    "##### Define: Calculate the age of each member by subtracting their birth year from the current year (2019) and then clean up the format of the member age and birth year to integer\n",
    "##### Code: see below"
   ]
  },
  {
   "cell_type": "code",
   "execution_count": 16,
   "metadata": {},
   "outputs": [],
   "source": [
    "# Subtracting the member_birth_year from the current year to get the ages of the members\n",
    "df_cleaned['member_age'] = 2019 - df_cleaned['member_birth_year']"
   ]
  },
  {
   "cell_type": "markdown",
   "metadata": {},
   "source": [
    "##### Test: "
   ]
  },
  {
   "cell_type": "code",
   "execution_count": 17,
   "metadata": {},
   "outputs": [
    {
     "data": {
      "text/html": [
       "<div>\n",
       "<style scoped>\n",
       "    .dataframe tbody tr th:only-of-type {\n",
       "        vertical-align: middle;\n",
       "    }\n",
       "\n",
       "    .dataframe tbody tr th {\n",
       "        vertical-align: top;\n",
       "    }\n",
       "\n",
       "    .dataframe thead th {\n",
       "        text-align: right;\n",
       "    }\n",
       "</style>\n",
       "<table border=\"1\" class=\"dataframe\">\n",
       "  <thead>\n",
       "    <tr style=\"text-align: right;\">\n",
       "      <th></th>\n",
       "      <th>duration_sec</th>\n",
       "      <th>start_time</th>\n",
       "      <th>end_time</th>\n",
       "      <th>start_station_id</th>\n",
       "      <th>start_station_name</th>\n",
       "      <th>start_station_latitude</th>\n",
       "      <th>start_station_longitude</th>\n",
       "      <th>end_station_id</th>\n",
       "      <th>end_station_name</th>\n",
       "      <th>end_station_latitude</th>\n",
       "      <th>end_station_longitude</th>\n",
       "      <th>bike_id</th>\n",
       "      <th>user_type</th>\n",
       "      <th>member_birth_year</th>\n",
       "      <th>member_gender</th>\n",
       "      <th>bike_share_for_all_trip</th>\n",
       "      <th>member_age</th>\n",
       "    </tr>\n",
       "  </thead>\n",
       "  <tbody>\n",
       "    <tr>\n",
       "      <th>0</th>\n",
       "      <td>71766</td>\n",
       "      <td>2018-03-31 16:58:33.149</td>\n",
       "      <td>2018-04-01 12:54:39.263</td>\n",
       "      <td>4.0</td>\n",
       "      <td>Cyril Magnin St at Ellis St</td>\n",
       "      <td>37.785881</td>\n",
       "      <td>-122.408915</td>\n",
       "      <td>6.0</td>\n",
       "      <td>The Embarcadero at Sansome St</td>\n",
       "      <td>37.804770</td>\n",
       "      <td>-122.403234</td>\n",
       "      <td>341</td>\n",
       "      <td>Customer</td>\n",
       "      <td>1964.0</td>\n",
       "      <td>Female</td>\n",
       "      <td>No</td>\n",
       "      <td>55.0</td>\n",
       "    </tr>\n",
       "    <tr>\n",
       "      <th>1</th>\n",
       "      <td>62569</td>\n",
       "      <td>2018-03-31 19:03:35.916</td>\n",
       "      <td>2018-04-01 12:26:25.035</td>\n",
       "      <td>78.0</td>\n",
       "      <td>Folsom St at 9th St</td>\n",
       "      <td>37.773717</td>\n",
       "      <td>-122.411647</td>\n",
       "      <td>47.0</td>\n",
       "      <td>4th St at Harrison St</td>\n",
       "      <td>37.780955</td>\n",
       "      <td>-122.399749</td>\n",
       "      <td>536</td>\n",
       "      <td>Subscriber</td>\n",
       "      <td>1984.0</td>\n",
       "      <td>Male</td>\n",
       "      <td>No</td>\n",
       "      <td>35.0</td>\n",
       "    </tr>\n",
       "    <tr>\n",
       "      <th>2</th>\n",
       "      <td>56221</td>\n",
       "      <td>2018-03-31 20:13:13.564</td>\n",
       "      <td>2018-04-01 11:50:14.840</td>\n",
       "      <td>258.0</td>\n",
       "      <td>University Ave at Oxford St</td>\n",
       "      <td>37.872355</td>\n",
       "      <td>-122.266447</td>\n",
       "      <td>239.0</td>\n",
       "      <td>Bancroft Way at Telegraph Ave</td>\n",
       "      <td>37.868813</td>\n",
       "      <td>-122.258764</td>\n",
       "      <td>3245</td>\n",
       "      <td>Customer</td>\n",
       "      <td>1983.0</td>\n",
       "      <td>Male</td>\n",
       "      <td>No</td>\n",
       "      <td>36.0</td>\n",
       "    </tr>\n",
       "    <tr>\n",
       "      <th>3</th>\n",
       "      <td>85844</td>\n",
       "      <td>2018-03-31 11:28:07.658</td>\n",
       "      <td>2018-04-01 11:18:52.613</td>\n",
       "      <td>186.0</td>\n",
       "      <td>Lakeside Dr at 14th St</td>\n",
       "      <td>37.801319</td>\n",
       "      <td>-122.262642</td>\n",
       "      <td>340.0</td>\n",
       "      <td>Harmon St at Adeline St</td>\n",
       "      <td>37.849735</td>\n",
       "      <td>-122.270582</td>\n",
       "      <td>3722</td>\n",
       "      <td>Customer</td>\n",
       "      <td>NaN</td>\n",
       "      <td>NaN</td>\n",
       "      <td>No</td>\n",
       "      <td>NaN</td>\n",
       "    </tr>\n",
       "    <tr>\n",
       "      <th>4</th>\n",
       "      <td>1566</td>\n",
       "      <td>2018-03-31 23:37:56.640</td>\n",
       "      <td>2018-04-01 00:04:02.893</td>\n",
       "      <td>193.0</td>\n",
       "      <td>Grand Ave at Santa Clara Ave</td>\n",
       "      <td>37.812744</td>\n",
       "      <td>-122.247215</td>\n",
       "      <td>196.0</td>\n",
       "      <td>Grand Ave at Perkins St</td>\n",
       "      <td>37.808894</td>\n",
       "      <td>-122.256460</td>\n",
       "      <td>2355</td>\n",
       "      <td>Subscriber</td>\n",
       "      <td>1979.0</td>\n",
       "      <td>Male</td>\n",
       "      <td>No</td>\n",
       "      <td>40.0</td>\n",
       "    </tr>\n",
       "  </tbody>\n",
       "</table>\n",
       "</div>"
      ],
      "text/plain": [
       "   duration_sec              start_time                end_time  \\\n",
       "0         71766 2018-03-31 16:58:33.149 2018-04-01 12:54:39.263   \n",
       "1         62569 2018-03-31 19:03:35.916 2018-04-01 12:26:25.035   \n",
       "2         56221 2018-03-31 20:13:13.564 2018-04-01 11:50:14.840   \n",
       "3         85844 2018-03-31 11:28:07.658 2018-04-01 11:18:52.613   \n",
       "4          1566 2018-03-31 23:37:56.640 2018-04-01 00:04:02.893   \n",
       "\n",
       "  start_station_id            start_station_name  start_station_latitude  \\\n",
       "0              4.0   Cyril Magnin St at Ellis St               37.785881   \n",
       "1             78.0           Folsom St at 9th St               37.773717   \n",
       "2            258.0   University Ave at Oxford St               37.872355   \n",
       "3            186.0        Lakeside Dr at 14th St               37.801319   \n",
       "4            193.0  Grand Ave at Santa Clara Ave               37.812744   \n",
       "\n",
       "   start_station_longitude end_station_id               end_station_name  \\\n",
       "0              -122.408915            6.0  The Embarcadero at Sansome St   \n",
       "1              -122.411647           47.0          4th St at Harrison St   \n",
       "2              -122.266447          239.0  Bancroft Way at Telegraph Ave   \n",
       "3              -122.262642          340.0        Harmon St at Adeline St   \n",
       "4              -122.247215          196.0        Grand Ave at Perkins St   \n",
       "\n",
       "   end_station_latitude  end_station_longitude bike_id   user_type  \\\n",
       "0             37.804770            -122.403234     341    Customer   \n",
       "1             37.780955            -122.399749     536  Subscriber   \n",
       "2             37.868813            -122.258764    3245    Customer   \n",
       "3             37.849735            -122.270582    3722    Customer   \n",
       "4             37.808894            -122.256460    2355  Subscriber   \n",
       "\n",
       "   member_birth_year member_gender bike_share_for_all_trip  member_age  \n",
       "0             1964.0        Female                      No        55.0  \n",
       "1             1984.0          Male                      No        35.0  \n",
       "2             1983.0          Male                      No        36.0  \n",
       "3                NaN           NaN                      No         NaN  \n",
       "4             1979.0          Male                      No        40.0  "
      ]
     },
     "execution_count": 17,
     "metadata": {},
     "output_type": "execute_result"
    }
   ],
   "source": [
    "df_cleaned.head()"
   ]
  },
  {
   "cell_type": "code",
   "execution_count": 18,
   "metadata": {},
   "outputs": [
    {
     "name": "stdout",
     "output_type": "stream",
     "text": [
      "<class 'pandas.core.frame.DataFrame'>\n",
      "RangeIndex: 1863721 entries, 0 to 1863720\n",
      "Data columns (total 17 columns):\n",
      " #   Column                   Non-Null Count    Dtype         \n",
      "---  ------                   --------------    -----         \n",
      " 0   duration_sec             1863721 non-null  int64         \n",
      " 1   start_time               1863721 non-null  datetime64[ns]\n",
      " 2   end_time                 1863721 non-null  datetime64[ns]\n",
      " 3   start_station_id         1863721 non-null  object        \n",
      " 4   start_station_name       1851950 non-null  object        \n",
      " 5   start_station_latitude   1863721 non-null  float64       \n",
      " 6   start_station_longitude  1863721 non-null  float64       \n",
      " 7   end_station_id           1863721 non-null  object        \n",
      " 8   end_station_name         1851950 non-null  object        \n",
      " 9   end_station_latitude     1863721 non-null  float64       \n",
      " 10  end_station_longitude    1863721 non-null  float64       \n",
      " 11  bike_id                  1863721 non-null  object        \n",
      " 12  user_type                1863721 non-null  category      \n",
      " 13  member_birth_year        1753003 non-null  float64       \n",
      " 14  member_gender            1753354 non-null  category      \n",
      " 15  bike_share_for_all_trip  1863721 non-null  category      \n",
      " 16  member_age               1753003 non-null  float64       \n",
      "dtypes: category(3), datetime64[ns](2), float64(6), int64(1), object(5)\n",
      "memory usage: 204.4+ MB\n"
     ]
    }
   ],
   "source": [
    "df_cleaned.info(null_counts = True)"
   ]
  },
  {
   "cell_type": "markdown",
   "metadata": {},
   "source": [
    "##### Define: Clean up the ages of members - there are a few outliers that don't make sense. Since 99% of users are ages 66 and below, I will just keep that proportion of users by keeping users 66 and below\n",
    "##### Code: see below"
   ]
  },
  {
   "cell_type": "code",
   "execution_count": 19,
   "metadata": {},
   "outputs": [
    {
     "data": {
      "text/plain": [
       "35.91203780027758"
      ]
     },
     "execution_count": 19,
     "metadata": {},
     "output_type": "execute_result"
    }
   ],
   "source": [
    "# The average age is 35 years old\n",
    "df_cleaned.member_age.mean()"
   ]
  },
  {
   "cell_type": "code",
   "execution_count": 20,
   "metadata": {},
   "outputs": [
    {
     "data": {
      "text/plain": [
       "count    1.753003e+06\n",
       "mean     3.591204e+01\n",
       "std      1.044289e+01\n",
       "min      1.900000e+01\n",
       "25%      2.800000e+01\n",
       "50%      3.400000e+01\n",
       "75%      4.100000e+01\n",
       "max      1.380000e+02\n",
       "Name: member_age, dtype: float64"
      ]
     },
     "execution_count": 20,
     "metadata": {},
     "output_type": "execute_result"
    }
   ],
   "source": [
    "df_cleaned.member_age.describe()\n",
    "# So it looks like 75% of users are under the age of 40"
   ]
  },
  {
   "cell_type": "code",
   "execution_count": 21,
   "metadata": {},
   "outputs": [
    {
     "data": {
      "text/plain": [
       "count    1.753003e+06\n",
       "mean     3.591204e+01\n",
       "std      1.044289e+01\n",
       "min      1.900000e+01\n",
       "50%      3.400000e+01\n",
       "99%      6.600000e+01\n",
       "max      1.380000e+02\n",
       "Name: member_age, dtype: float64"
      ]
     },
     "execution_count": 21,
     "metadata": {},
     "output_type": "execute_result"
    }
   ],
   "source": [
    "df_cleaned.member_age.describe(percentiles = [.99])\n",
    "# So it looks like 99% of users are under the age of 66"
   ]
  },
  {
   "cell_type": "code",
   "execution_count": 22,
   "metadata": {},
   "outputs": [],
   "source": [
    "# Only keep the events where riders were under 66 years of age\n",
    "df_cleaned = df_cleaned.query('member_age <= 66')"
   ]
  },
  {
   "cell_type": "code",
   "execution_count": 23,
   "metadata": {},
   "outputs": [],
   "source": [
    "# Convert the member_age and birth year to integer format\n",
    "df_cleaned.member_age = df_cleaned.member_age.astype(int)\n",
    "df_cleaned.member_birth_year = df_cleaned.member_birth_year.astype(int)"
   ]
  },
  {
   "cell_type": "markdown",
   "metadata": {},
   "source": [
    "##### Test:"
   ]
  },
  {
   "cell_type": "code",
   "execution_count": 24,
   "metadata": {},
   "outputs": [
    {
     "data": {
      "text/html": [
       "<div>\n",
       "<style scoped>\n",
       "    .dataframe tbody tr th:only-of-type {\n",
       "        vertical-align: middle;\n",
       "    }\n",
       "\n",
       "    .dataframe tbody tr th {\n",
       "        vertical-align: top;\n",
       "    }\n",
       "\n",
       "    .dataframe thead th {\n",
       "        text-align: right;\n",
       "    }\n",
       "</style>\n",
       "<table border=\"1\" class=\"dataframe\">\n",
       "  <thead>\n",
       "    <tr style=\"text-align: right;\">\n",
       "      <th></th>\n",
       "      <th>duration_sec</th>\n",
       "      <th>start_time</th>\n",
       "      <th>end_time</th>\n",
       "      <th>start_station_id</th>\n",
       "      <th>start_station_name</th>\n",
       "      <th>start_station_latitude</th>\n",
       "      <th>start_station_longitude</th>\n",
       "      <th>end_station_id</th>\n",
       "      <th>end_station_name</th>\n",
       "      <th>end_station_latitude</th>\n",
       "      <th>end_station_longitude</th>\n",
       "      <th>bike_id</th>\n",
       "      <th>user_type</th>\n",
       "      <th>member_birth_year</th>\n",
       "      <th>member_gender</th>\n",
       "      <th>bike_share_for_all_trip</th>\n",
       "      <th>member_age</th>\n",
       "    </tr>\n",
       "  </thead>\n",
       "  <tbody>\n",
       "    <tr>\n",
       "      <th>1512708</th>\n",
       "      <td>288</td>\n",
       "      <td>2018-02-08 18:30:45.630</td>\n",
       "      <td>2018-02-08 18:35:34.054</td>\n",
       "      <td>93.0</td>\n",
       "      <td>4th St at Mission Bay Blvd S</td>\n",
       "      <td>37.770407</td>\n",
       "      <td>-122.391198</td>\n",
       "      <td>116.0</td>\n",
       "      <td>Mississippi St at 17th St</td>\n",
       "      <td>37.764802</td>\n",
       "      <td>-122.394771</td>\n",
       "      <td>783</td>\n",
       "      <td>Subscriber</td>\n",
       "      <td>1982</td>\n",
       "      <td>Male</td>\n",
       "      <td>No</td>\n",
       "      <td>37</td>\n",
       "    </tr>\n",
       "    <tr>\n",
       "      <th>614766</th>\n",
       "      <td>705</td>\n",
       "      <td>2018-04-03 08:34:04.786</td>\n",
       "      <td>2018-04-03 08:45:50.099</td>\n",
       "      <td>23.0</td>\n",
       "      <td>The Embarcadero at Steuart St</td>\n",
       "      <td>37.791464</td>\n",
       "      <td>-122.391034</td>\n",
       "      <td>93.0</td>\n",
       "      <td>4th St at Mission Bay Blvd S</td>\n",
       "      <td>37.770407</td>\n",
       "      <td>-122.391198</td>\n",
       "      <td>977</td>\n",
       "      <td>Subscriber</td>\n",
       "      <td>1962</td>\n",
       "      <td>Female</td>\n",
       "      <td>No</td>\n",
       "      <td>57</td>\n",
       "    </tr>\n",
       "    <tr>\n",
       "      <th>286390</th>\n",
       "      <td>915</td>\n",
       "      <td>2018-10-04 14:46:32.766</td>\n",
       "      <td>2018-10-04 15:01:48.053</td>\n",
       "      <td>163.0</td>\n",
       "      <td>Lake Merritt BART Station</td>\n",
       "      <td>37.797320</td>\n",
       "      <td>-122.265320</td>\n",
       "      <td>214.0</td>\n",
       "      <td>Market St at Brockhurst St</td>\n",
       "      <td>37.823321</td>\n",
       "      <td>-122.275733</td>\n",
       "      <td>2160</td>\n",
       "      <td>Subscriber</td>\n",
       "      <td>1994</td>\n",
       "      <td>Male</td>\n",
       "      <td>Yes</td>\n",
       "      <td>25</td>\n",
       "    </tr>\n",
       "    <tr>\n",
       "      <th>633840</th>\n",
       "      <td>346</td>\n",
       "      <td>2018-07-30 15:44:03.081</td>\n",
       "      <td>2018-07-30 15:49:49.368</td>\n",
       "      <td>242.0</td>\n",
       "      <td>Milvia St at Derby St</td>\n",
       "      <td>37.860125</td>\n",
       "      <td>-122.269384</td>\n",
       "      <td>246.0</td>\n",
       "      <td>Berkeley Civic Center</td>\n",
       "      <td>37.869060</td>\n",
       "      <td>-122.270556</td>\n",
       "      <td>2951</td>\n",
       "      <td>Subscriber</td>\n",
       "      <td>1958</td>\n",
       "      <td>Male</td>\n",
       "      <td>No</td>\n",
       "      <td>61</td>\n",
       "    </tr>\n",
       "    <tr>\n",
       "      <th>1363184</th>\n",
       "      <td>671</td>\n",
       "      <td>2018-06-13 08:13:20.133</td>\n",
       "      <td>2018-06-13 08:24:31.657</td>\n",
       "      <td>223.0</td>\n",
       "      <td>16th St Mission BART Station 2</td>\n",
       "      <td>37.764765</td>\n",
       "      <td>-122.420091</td>\n",
       "      <td>96.0</td>\n",
       "      <td>Dolores St at 15th St</td>\n",
       "      <td>37.766210</td>\n",
       "      <td>-122.426614</td>\n",
       "      <td>234</td>\n",
       "      <td>Subscriber</td>\n",
       "      <td>1991</td>\n",
       "      <td>Female</td>\n",
       "      <td>No</td>\n",
       "      <td>28</td>\n",
       "    </tr>\n",
       "  </tbody>\n",
       "</table>\n",
       "</div>"
      ],
      "text/plain": [
       "         duration_sec              start_time                end_time  \\\n",
       "1512708           288 2018-02-08 18:30:45.630 2018-02-08 18:35:34.054   \n",
       "614766            705 2018-04-03 08:34:04.786 2018-04-03 08:45:50.099   \n",
       "286390            915 2018-10-04 14:46:32.766 2018-10-04 15:01:48.053   \n",
       "633840            346 2018-07-30 15:44:03.081 2018-07-30 15:49:49.368   \n",
       "1363184           671 2018-06-13 08:13:20.133 2018-06-13 08:24:31.657   \n",
       "\n",
       "        start_station_id              start_station_name  \\\n",
       "1512708             93.0    4th St at Mission Bay Blvd S   \n",
       "614766              23.0   The Embarcadero at Steuart St   \n",
       "286390             163.0       Lake Merritt BART Station   \n",
       "633840             242.0           Milvia St at Derby St   \n",
       "1363184            223.0  16th St Mission BART Station 2   \n",
       "\n",
       "         start_station_latitude  start_station_longitude end_station_id  \\\n",
       "1512708               37.770407              -122.391198          116.0   \n",
       "614766                37.791464              -122.391034           93.0   \n",
       "286390                37.797320              -122.265320          214.0   \n",
       "633840                37.860125              -122.269384          246.0   \n",
       "1363184               37.764765              -122.420091           96.0   \n",
       "\n",
       "                     end_station_name  end_station_latitude  \\\n",
       "1512708     Mississippi St at 17th St             37.764802   \n",
       "614766   4th St at Mission Bay Blvd S             37.770407   \n",
       "286390     Market St at Brockhurst St             37.823321   \n",
       "633840          Berkeley Civic Center             37.869060   \n",
       "1363184         Dolores St at 15th St             37.766210   \n",
       "\n",
       "         end_station_longitude bike_id   user_type  member_birth_year  \\\n",
       "1512708            -122.394771     783  Subscriber               1982   \n",
       "614766             -122.391198     977  Subscriber               1962   \n",
       "286390             -122.275733    2160  Subscriber               1994   \n",
       "633840             -122.270556    2951  Subscriber               1958   \n",
       "1363184            -122.426614     234  Subscriber               1991   \n",
       "\n",
       "        member_gender bike_share_for_all_trip  member_age  \n",
       "1512708          Male                      No          37  \n",
       "614766         Female                      No          57  \n",
       "286390           Male                     Yes          25  \n",
       "633840           Male                      No          61  \n",
       "1363184        Female                      No          28  "
      ]
     },
     "execution_count": 24,
     "metadata": {},
     "output_type": "execute_result"
    }
   ],
   "source": [
    "df_cleaned.sample(5)"
   ]
  },
  {
   "cell_type": "code",
   "execution_count": 25,
   "metadata": {},
   "outputs": [
    {
     "data": {
      "text/plain": [
       "count    1.736572e+06\n",
       "mean     3.554417e+01\n",
       "std      9.700772e+00\n",
       "min      1.900000e+01\n",
       "25%      2.800000e+01\n",
       "50%      3.300000e+01\n",
       "75%      4.100000e+01\n",
       "max      6.600000e+01\n",
       "Name: member_age, dtype: float64"
      ]
     },
     "execution_count": 25,
     "metadata": {},
     "output_type": "execute_result"
    }
   ],
   "source": [
    "df_cleaned.member_age.describe()"
   ]
  },
  {
   "cell_type": "code",
   "execution_count": 26,
   "metadata": {},
   "outputs": [
    {
     "name": "stdout",
     "output_type": "stream",
     "text": [
      "<class 'pandas.core.frame.DataFrame'>\n",
      "Int64Index: 1736572 entries, 0 to 1863720\n",
      "Data columns (total 17 columns):\n",
      " #   Column                   Non-Null Count    Dtype         \n",
      "---  ------                   --------------    -----         \n",
      " 0   duration_sec             1736572 non-null  int64         \n",
      " 1   start_time               1736572 non-null  datetime64[ns]\n",
      " 2   end_time                 1736572 non-null  datetime64[ns]\n",
      " 3   start_station_id         1736572 non-null  object        \n",
      " 4   start_station_name       1725138 non-null  object        \n",
      " 5   start_station_latitude   1736572 non-null  float64       \n",
      " 6   start_station_longitude  1736572 non-null  float64       \n",
      " 7   end_station_id           1736572 non-null  object        \n",
      " 8   end_station_name         1725138 non-null  object        \n",
      " 9   end_station_latitude     1736572 non-null  float64       \n",
      " 10  end_station_longitude    1736572 non-null  float64       \n",
      " 11  bike_id                  1736572 non-null  object        \n",
      " 12  user_type                1736572 non-null  category      \n",
      " 13  member_birth_year        1736572 non-null  int64         \n",
      " 14  member_gender            1736572 non-null  category      \n",
      " 15  bike_share_for_all_trip  1736572 non-null  category      \n",
      " 16  member_age               1736572 non-null  int64         \n",
      "dtypes: category(3), datetime64[ns](2), float64(4), int64(3), object(5)\n",
      "memory usage: 203.7+ MB\n"
     ]
    }
   ],
   "source": [
    "df_cleaned.info(null_counts = True)"
   ]
  },
  {
   "cell_type": "markdown",
   "metadata": {},
   "source": [
    "##### Define: Add columns for the start month, day of the week, and hour, along with figuring out the trip duration in minutes so I can create visuals based on workable units\n",
    "##### Code: see below"
   ]
  },
  {
   "cell_type": "code",
   "execution_count": 27,
   "metadata": {},
   "outputs": [],
   "source": [
    "# Start time month (January - December)\n",
    "df_cleaned['start_time_month'] = df_cleaned['start_time'].dt.strftime('%B')"
   ]
  },
  {
   "cell_type": "code",
   "execution_count": 28,
   "metadata": {},
   "outputs": [],
   "source": [
    "# Start time month (1-12)\n",
    "df_cleaned['start_time_month_num'] = df_cleaned['start_time'].dt.month.astype(int)"
   ]
  },
  {
   "cell_type": "code",
   "execution_count": 29,
   "metadata": {},
   "outputs": [],
   "source": [
    "# Start time weekday\n",
    "df_cleaned['start_time_weekday'] = df_cleaned['start_time'].dt.strftime('%a')"
   ]
  },
  {
   "cell_type": "code",
   "execution_count": 30,
   "metadata": {},
   "outputs": [],
   "source": [
    "# Start and end time hour\n",
    "df_cleaned['start_time_hour'] = df_cleaned['start_time'].dt.hour\n",
    "df_cleaned['end_time_hour'] = df_cleaned['end_time'].dt.hour"
   ]
  },
  {
   "cell_type": "code",
   "execution_count": 31,
   "metadata": {},
   "outputs": [],
   "source": [
    "# Duration in seconds to duration in minutes\n",
    "df_cleaned['duration_min'] = df_cleaned['duration_sec']/60\n",
    "df_cleaned['duration_min'] = df_cleaned['duration_min'].astype(int)"
   ]
  },
  {
   "cell_type": "markdown",
   "metadata": {},
   "source": [
    "##### Test: "
   ]
  },
  {
   "cell_type": "code",
   "execution_count": 32,
   "metadata": {},
   "outputs": [
    {
     "data": {
      "text/html": [
       "<div>\n",
       "<style scoped>\n",
       "    .dataframe tbody tr th:only-of-type {\n",
       "        vertical-align: middle;\n",
       "    }\n",
       "\n",
       "    .dataframe tbody tr th {\n",
       "        vertical-align: top;\n",
       "    }\n",
       "\n",
       "    .dataframe thead th {\n",
       "        text-align: right;\n",
       "    }\n",
       "</style>\n",
       "<table border=\"1\" class=\"dataframe\">\n",
       "  <thead>\n",
       "    <tr style=\"text-align: right;\">\n",
       "      <th></th>\n",
       "      <th>duration_sec</th>\n",
       "      <th>start_time</th>\n",
       "      <th>end_time</th>\n",
       "      <th>start_station_id</th>\n",
       "      <th>start_station_name</th>\n",
       "      <th>start_station_latitude</th>\n",
       "      <th>start_station_longitude</th>\n",
       "      <th>end_station_id</th>\n",
       "      <th>end_station_name</th>\n",
       "      <th>end_station_latitude</th>\n",
       "      <th>...</th>\n",
       "      <th>member_birth_year</th>\n",
       "      <th>member_gender</th>\n",
       "      <th>bike_share_for_all_trip</th>\n",
       "      <th>member_age</th>\n",
       "      <th>start_time_month</th>\n",
       "      <th>start_time_month_num</th>\n",
       "      <th>start_time_weekday</th>\n",
       "      <th>start_time_hour</th>\n",
       "      <th>end_time_hour</th>\n",
       "      <th>duration_min</th>\n",
       "    </tr>\n",
       "  </thead>\n",
       "  <tbody>\n",
       "    <tr>\n",
       "      <th>709970</th>\n",
       "      <td>474</td>\n",
       "      <td>2018-07-18 18:37:36.395</td>\n",
       "      <td>2018-07-18 18:45:31.251</td>\n",
       "      <td>81.0</td>\n",
       "      <td>Berry St at 4th St</td>\n",
       "      <td>37.775880</td>\n",
       "      <td>-122.393170</td>\n",
       "      <td>37.0</td>\n",
       "      <td>2nd St at Folsom St</td>\n",
       "      <td>37.785000</td>\n",
       "      <td>...</td>\n",
       "      <td>1988</td>\n",
       "      <td>Male</td>\n",
       "      <td>No</td>\n",
       "      <td>31</td>\n",
       "      <td>July</td>\n",
       "      <td>7</td>\n",
       "      <td>Wed</td>\n",
       "      <td>18</td>\n",
       "      <td>18</td>\n",
       "      <td>7</td>\n",
       "    </tr>\n",
       "    <tr>\n",
       "      <th>99234</th>\n",
       "      <td>710</td>\n",
       "      <td>2018-03-05 17:30:11.922</td>\n",
       "      <td>2018-03-05 17:42:01.969</td>\n",
       "      <td>129.0</td>\n",
       "      <td>Harrison St at 20th St</td>\n",
       "      <td>37.758862</td>\n",
       "      <td>-122.412544</td>\n",
       "      <td>127.0</td>\n",
       "      <td>Valencia St at 21st St</td>\n",
       "      <td>37.756708</td>\n",
       "      <td>...</td>\n",
       "      <td>1958</td>\n",
       "      <td>Male</td>\n",
       "      <td>No</td>\n",
       "      <td>61</td>\n",
       "      <td>March</td>\n",
       "      <td>3</td>\n",
       "      <td>Mon</td>\n",
       "      <td>17</td>\n",
       "      <td>17</td>\n",
       "      <td>11</td>\n",
       "    </tr>\n",
       "    <tr>\n",
       "      <th>734158</th>\n",
       "      <td>1331</td>\n",
       "      <td>2018-07-15 14:09:50.025</td>\n",
       "      <td>2018-07-15 14:32:01.558</td>\n",
       "      <td>197.0</td>\n",
       "      <td>El Embarcadero at Grand Ave</td>\n",
       "      <td>37.808848</td>\n",
       "      <td>-122.249680</td>\n",
       "      <td>197.0</td>\n",
       "      <td>El Embarcadero at Grand Ave</td>\n",
       "      <td>37.808848</td>\n",
       "      <td>...</td>\n",
       "      <td>1996</td>\n",
       "      <td>Female</td>\n",
       "      <td>No</td>\n",
       "      <td>23</td>\n",
       "      <td>July</td>\n",
       "      <td>7</td>\n",
       "      <td>Sun</td>\n",
       "      <td>14</td>\n",
       "      <td>14</td>\n",
       "      <td>22</td>\n",
       "    </tr>\n",
       "    <tr>\n",
       "      <th>1310845</th>\n",
       "      <td>426</td>\n",
       "      <td>2018-06-21 07:40:07.220</td>\n",
       "      <td>2018-06-21 07:47:13.553</td>\n",
       "      <td>223.0</td>\n",
       "      <td>16th St Mission BART Station 2</td>\n",
       "      <td>37.764765</td>\n",
       "      <td>-122.420091</td>\n",
       "      <td>114.0</td>\n",
       "      <td>Rhode Island St at 17th St</td>\n",
       "      <td>37.764478</td>\n",
       "      <td>...</td>\n",
       "      <td>1960</td>\n",
       "      <td>Male</td>\n",
       "      <td>No</td>\n",
       "      <td>59</td>\n",
       "      <td>June</td>\n",
       "      <td>6</td>\n",
       "      <td>Thu</td>\n",
       "      <td>7</td>\n",
       "      <td>7</td>\n",
       "      <td>7</td>\n",
       "    </tr>\n",
       "    <tr>\n",
       "      <th>445168</th>\n",
       "      <td>218</td>\n",
       "      <td>2018-05-09 08:00:17.363</td>\n",
       "      <td>2018-05-09 08:03:55.760</td>\n",
       "      <td>209.0</td>\n",
       "      <td>45th St at MLK Jr Way</td>\n",
       "      <td>37.833558</td>\n",
       "      <td>-122.267418</td>\n",
       "      <td>176.0</td>\n",
       "      <td>MacArthur BART Station</td>\n",
       "      <td>37.828410</td>\n",
       "      <td>...</td>\n",
       "      <td>1966</td>\n",
       "      <td>Male</td>\n",
       "      <td>Yes</td>\n",
       "      <td>53</td>\n",
       "      <td>May</td>\n",
       "      <td>5</td>\n",
       "      <td>Wed</td>\n",
       "      <td>8</td>\n",
       "      <td>8</td>\n",
       "      <td>3</td>\n",
       "    </tr>\n",
       "  </tbody>\n",
       "</table>\n",
       "<p>5 rows × 23 columns</p>\n",
       "</div>"
      ],
      "text/plain": [
       "         duration_sec              start_time                end_time  \\\n",
       "709970            474 2018-07-18 18:37:36.395 2018-07-18 18:45:31.251   \n",
       "99234             710 2018-03-05 17:30:11.922 2018-03-05 17:42:01.969   \n",
       "734158           1331 2018-07-15 14:09:50.025 2018-07-15 14:32:01.558   \n",
       "1310845           426 2018-06-21 07:40:07.220 2018-06-21 07:47:13.553   \n",
       "445168            218 2018-05-09 08:00:17.363 2018-05-09 08:03:55.760   \n",
       "\n",
       "        start_station_id              start_station_name  \\\n",
       "709970              81.0              Berry St at 4th St   \n",
       "99234              129.0          Harrison St at 20th St   \n",
       "734158             197.0     El Embarcadero at Grand Ave   \n",
       "1310845            223.0  16th St Mission BART Station 2   \n",
       "445168             209.0           45th St at MLK Jr Way   \n",
       "\n",
       "         start_station_latitude  start_station_longitude end_station_id  \\\n",
       "709970                37.775880              -122.393170           37.0   \n",
       "99234                 37.758862              -122.412544          127.0   \n",
       "734158                37.808848              -122.249680          197.0   \n",
       "1310845               37.764765              -122.420091          114.0   \n",
       "445168                37.833558              -122.267418          176.0   \n",
       "\n",
       "                    end_station_name  end_station_latitude  ...  \\\n",
       "709970           2nd St at Folsom St             37.785000  ...   \n",
       "99234         Valencia St at 21st St             37.756708  ...   \n",
       "734158   El Embarcadero at Grand Ave             37.808848  ...   \n",
       "1310845   Rhode Island St at 17th St             37.764478  ...   \n",
       "445168        MacArthur BART Station             37.828410  ...   \n",
       "\n",
       "         member_birth_year member_gender bike_share_for_all_trip  member_age  \\\n",
       "709970                1988          Male                      No          31   \n",
       "99234                 1958          Male                      No          61   \n",
       "734158                1996        Female                      No          23   \n",
       "1310845               1960          Male                      No          59   \n",
       "445168                1966          Male                     Yes          53   \n",
       "\n",
       "        start_time_month start_time_month_num  start_time_weekday  \\\n",
       "709970              July                    7                 Wed   \n",
       "99234              March                    3                 Mon   \n",
       "734158              July                    7                 Sun   \n",
       "1310845             June                    6                 Thu   \n",
       "445168               May                    5                 Wed   \n",
       "\n",
       "        start_time_hour  end_time_hour duration_min  \n",
       "709970               18             18            7  \n",
       "99234                17             17           11  \n",
       "734158               14             14           22  \n",
       "1310845               7              7            7  \n",
       "445168                8              8            3  \n",
       "\n",
       "[5 rows x 23 columns]"
      ]
     },
     "execution_count": 32,
     "metadata": {},
     "output_type": "execute_result"
    }
   ],
   "source": [
    "df_cleaned.sample(5)"
   ]
  },
  {
   "cell_type": "code",
   "execution_count": 33,
   "metadata": {},
   "outputs": [
    {
     "name": "stdout",
     "output_type": "stream",
     "text": [
      "<class 'pandas.core.frame.DataFrame'>\n",
      "Int64Index: 1736572 entries, 0 to 1863720\n",
      "Data columns (total 23 columns):\n",
      " #   Column                   Non-Null Count    Dtype         \n",
      "---  ------                   --------------    -----         \n",
      " 0   duration_sec             1736572 non-null  int64         \n",
      " 1   start_time               1736572 non-null  datetime64[ns]\n",
      " 2   end_time                 1736572 non-null  datetime64[ns]\n",
      " 3   start_station_id         1736572 non-null  object        \n",
      " 4   start_station_name       1725138 non-null  object        \n",
      " 5   start_station_latitude   1736572 non-null  float64       \n",
      " 6   start_station_longitude  1736572 non-null  float64       \n",
      " 7   end_station_id           1736572 non-null  object        \n",
      " 8   end_station_name         1725138 non-null  object        \n",
      " 9   end_station_latitude     1736572 non-null  float64       \n",
      " 10  end_station_longitude    1736572 non-null  float64       \n",
      " 11  bike_id                  1736572 non-null  object        \n",
      " 12  user_type                1736572 non-null  category      \n",
      " 13  member_birth_year        1736572 non-null  int64         \n",
      " 14  member_gender            1736572 non-null  category      \n",
      " 15  bike_share_for_all_trip  1736572 non-null  category      \n",
      " 16  member_age               1736572 non-null  int64         \n",
      " 17  start_time_month         1736572 non-null  object        \n",
      " 18  start_time_month_num     1736572 non-null  int64         \n",
      " 19  start_time_weekday       1736572 non-null  object        \n",
      " 20  start_time_hour          1736572 non-null  int64         \n",
      " 21  end_time_hour            1736572 non-null  int64         \n",
      " 22  duration_min             1736572 non-null  int64         \n",
      "dtypes: category(3), datetime64[ns](2), float64(4), int64(7), object(7)\n",
      "memory usage: 283.2+ MB\n"
     ]
    }
   ],
   "source": [
    "df_cleaned.info(null_counts = True)"
   ]
  },
  {
   "cell_type": "markdown",
   "metadata": {},
   "source": [
    "##### Define: Calculate the total distance traveled using the latitude and longitude in the data set\n",
    "##### Code: see below"
   ]
  },
  {
   "cell_type": "markdown",
   "metadata": {},
   "source": [
    "##### Calculations are derived from the 'haversine' formula which is used to calculate the great-circle distance between tow points, i.e. the shortest distance over the earth's surface. Thank you Google for providing a way to figure this out! Reference is listed in the sources at the end of this document. "
   ]
  },
  {
   "cell_type": "code",
   "execution_count": 34,
   "metadata": {},
   "outputs": [],
   "source": [
    "import math\n",
    "from math import radians, sin, cos, acos\n",
    "\n",
    "def distance(origin, destination):\n",
    "\n",
    "    lat1, long1 = origin\n",
    "    lat2, long2 = destination\n",
    "    radius = 6371\n",
    "    # this is in kilometers - will convert to US units of miles after\n",
    "\n",
    "    dlat = math.radians(lat2 - lat1)\n",
    "    dlong = math.radians(long2 - long1)\n",
    "    \n",
    "    a = (math.sin(dlat / 2) * math.sin(dlat / 2) + math.cos(math.radians(lat1)) * math.cos(math.radians(lat2)) * math.sin(dlong / 2) * math.sin(dlong / 2))\n",
    "    c = 2 * math.atan2(math.sqrt(a), math.sqrt(1 - a))\n",
    "    d = radius * c\n",
    "\n",
    "    return d"
   ]
  },
  {
   "cell_type": "code",
   "execution_count": 35,
   "metadata": {},
   "outputs": [],
   "source": [
    "# Using the calcuated math on our columns for lat and long\n",
    "df_cleaned['distance_km'] = df_cleaned.apply(lambda x: distance((x['start_station_latitude'], x['start_station_longitude']), (x['end_station_latitude'], x['end_station_longitude'])), axis=1)"
   ]
  },
  {
   "cell_type": "code",
   "execution_count": 36,
   "metadata": {},
   "outputs": [],
   "source": [
    "# Converting the kilometers to miles\n",
    "df_cleaned['distance_miles'] = df_cleaned['distance_km'] * 0.621371"
   ]
  },
  {
   "cell_type": "code",
   "execution_count": 37,
   "metadata": {},
   "outputs": [
    {
     "data": {
      "text/html": [
       "<div>\n",
       "<style scoped>\n",
       "    .dataframe tbody tr th:only-of-type {\n",
       "        vertical-align: middle;\n",
       "    }\n",
       "\n",
       "    .dataframe tbody tr th {\n",
       "        vertical-align: top;\n",
       "    }\n",
       "\n",
       "    .dataframe thead th {\n",
       "        text-align: right;\n",
       "    }\n",
       "</style>\n",
       "<table border=\"1\" class=\"dataframe\">\n",
       "  <thead>\n",
       "    <tr style=\"text-align: right;\">\n",
       "      <th></th>\n",
       "      <th>duration_sec</th>\n",
       "      <th>start_time</th>\n",
       "      <th>end_time</th>\n",
       "      <th>start_station_id</th>\n",
       "      <th>start_station_name</th>\n",
       "      <th>start_station_latitude</th>\n",
       "      <th>start_station_longitude</th>\n",
       "      <th>end_station_id</th>\n",
       "      <th>end_station_name</th>\n",
       "      <th>end_station_latitude</th>\n",
       "      <th>...</th>\n",
       "      <th>bike_share_for_all_trip</th>\n",
       "      <th>member_age</th>\n",
       "      <th>start_time_month</th>\n",
       "      <th>start_time_month_num</th>\n",
       "      <th>start_time_weekday</th>\n",
       "      <th>start_time_hour</th>\n",
       "      <th>end_time_hour</th>\n",
       "      <th>duration_min</th>\n",
       "      <th>distance_km</th>\n",
       "      <th>distance_miles</th>\n",
       "    </tr>\n",
       "  </thead>\n",
       "  <tbody>\n",
       "    <tr>\n",
       "      <th>363067</th>\n",
       "      <td>393</td>\n",
       "      <td>2018-05-23 08:08:26.511</td>\n",
       "      <td>2018-05-23 08:15:00.250</td>\n",
       "      <td>74.0</td>\n",
       "      <td>Laguna St at Hayes St</td>\n",
       "      <td>37.776435</td>\n",
       "      <td>-122.426244</td>\n",
       "      <td>58.0</td>\n",
       "      <td>Market St at 10th St</td>\n",
       "      <td>37.776619</td>\n",
       "      <td>...</td>\n",
       "      <td>No</td>\n",
       "      <td>25</td>\n",
       "      <td>May</td>\n",
       "      <td>5</td>\n",
       "      <td>Wed</td>\n",
       "      <td>8</td>\n",
       "      <td>8</td>\n",
       "      <td>6</td>\n",
       "      <td>0.778881</td>\n",
       "      <td>0.483974</td>\n",
       "    </tr>\n",
       "    <tr>\n",
       "      <th>276383</th>\n",
       "      <td>190</td>\n",
       "      <td>2018-10-05 19:11:50.492</td>\n",
       "      <td>2018-10-05 19:15:00.983</td>\n",
       "      <td>47.0</td>\n",
       "      <td>4th St at Harrison St</td>\n",
       "      <td>37.780955</td>\n",
       "      <td>-122.399749</td>\n",
       "      <td>67.0</td>\n",
       "      <td>San Francisco Caltrain Station 2  (Townsend St...</td>\n",
       "      <td>37.776639</td>\n",
       "      <td>...</td>\n",
       "      <td>No</td>\n",
       "      <td>33</td>\n",
       "      <td>October</td>\n",
       "      <td>10</td>\n",
       "      <td>Fri</td>\n",
       "      <td>19</td>\n",
       "      <td>19</td>\n",
       "      <td>3</td>\n",
       "      <td>0.606626</td>\n",
       "      <td>0.376940</td>\n",
       "    </tr>\n",
       "    <tr>\n",
       "      <th>489833</th>\n",
       "      <td>96</td>\n",
       "      <td>2018-05-01 10:10:29.973</td>\n",
       "      <td>2018-05-01 10:12:06.592</td>\n",
       "      <td>212.0</td>\n",
       "      <td>Mosswood Park</td>\n",
       "      <td>37.824931</td>\n",
       "      <td>-122.260479</td>\n",
       "      <td>177.0</td>\n",
       "      <td>MacArthur Blvd at Telegraph Ave</td>\n",
       "      <td>37.826286</td>\n",
       "      <td>...</td>\n",
       "      <td>No</td>\n",
       "      <td>32</td>\n",
       "      <td>May</td>\n",
       "      <td>5</td>\n",
       "      <td>Tue</td>\n",
       "      <td>10</td>\n",
       "      <td>10</td>\n",
       "      <td>1</td>\n",
       "      <td>0.432979</td>\n",
       "      <td>0.269041</td>\n",
       "    </tr>\n",
       "    <tr>\n",
       "      <th>1277155</th>\n",
       "      <td>754</td>\n",
       "      <td>2018-06-26 09:07:42.065</td>\n",
       "      <td>2018-06-26 09:20:16.506</td>\n",
       "      <td>22.0</td>\n",
       "      <td>Howard St at Beale St</td>\n",
       "      <td>37.789756</td>\n",
       "      <td>-122.394643</td>\n",
       "      <td>66.0</td>\n",
       "      <td>3rd St at Townsend St</td>\n",
       "      <td>37.778742</td>\n",
       "      <td>...</td>\n",
       "      <td>No</td>\n",
       "      <td>51</td>\n",
       "      <td>June</td>\n",
       "      <td>6</td>\n",
       "      <td>Tue</td>\n",
       "      <td>9</td>\n",
       "      <td>9</td>\n",
       "      <td>12</td>\n",
       "      <td>1.236099</td>\n",
       "      <td>0.768076</td>\n",
       "    </tr>\n",
       "    <tr>\n",
       "      <th>18862</th>\n",
       "      <td>841</td>\n",
       "      <td>2018-03-27 19:21:32.825</td>\n",
       "      <td>2018-03-27 19:35:34.385</td>\n",
       "      <td>8.0</td>\n",
       "      <td>The Embarcadero at Vallejo St</td>\n",
       "      <td>37.799953</td>\n",
       "      <td>-122.398525</td>\n",
       "      <td>93.0</td>\n",
       "      <td>4th St at Mission Bay Blvd S</td>\n",
       "      <td>37.770407</td>\n",
       "      <td>...</td>\n",
       "      <td>No</td>\n",
       "      <td>39</td>\n",
       "      <td>March</td>\n",
       "      <td>3</td>\n",
       "      <td>Tue</td>\n",
       "      <td>19</td>\n",
       "      <td>19</td>\n",
       "      <td>14</td>\n",
       "      <td>3.347817</td>\n",
       "      <td>2.080237</td>\n",
       "    </tr>\n",
       "  </tbody>\n",
       "</table>\n",
       "<p>5 rows × 25 columns</p>\n",
       "</div>"
      ],
      "text/plain": [
       "         duration_sec              start_time                end_time  \\\n",
       "363067            393 2018-05-23 08:08:26.511 2018-05-23 08:15:00.250   \n",
       "276383            190 2018-10-05 19:11:50.492 2018-10-05 19:15:00.983   \n",
       "489833             96 2018-05-01 10:10:29.973 2018-05-01 10:12:06.592   \n",
       "1277155           754 2018-06-26 09:07:42.065 2018-06-26 09:20:16.506   \n",
       "18862             841 2018-03-27 19:21:32.825 2018-03-27 19:35:34.385   \n",
       "\n",
       "        start_station_id             start_station_name  \\\n",
       "363067              74.0          Laguna St at Hayes St   \n",
       "276383              47.0          4th St at Harrison St   \n",
       "489833             212.0                  Mosswood Park   \n",
       "1277155             22.0          Howard St at Beale St   \n",
       "18862                8.0  The Embarcadero at Vallejo St   \n",
       "\n",
       "         start_station_latitude  start_station_longitude end_station_id  \\\n",
       "363067                37.776435              -122.426244           58.0   \n",
       "276383                37.780955              -122.399749           67.0   \n",
       "489833                37.824931              -122.260479          177.0   \n",
       "1277155               37.789756              -122.394643           66.0   \n",
       "18862                 37.799953              -122.398525           93.0   \n",
       "\n",
       "                                          end_station_name  \\\n",
       "363067                                Market St at 10th St   \n",
       "276383   San Francisco Caltrain Station 2  (Townsend St...   \n",
       "489833                     MacArthur Blvd at Telegraph Ave   \n",
       "1277155                              3rd St at Townsend St   \n",
       "18862                         4th St at Mission Bay Blvd S   \n",
       "\n",
       "         end_station_latitude  ...  bike_share_for_all_trip member_age  \\\n",
       "363067              37.776619  ...                       No         25   \n",
       "276383              37.776639  ...                       No         33   \n",
       "489833              37.826286  ...                       No         32   \n",
       "1277155             37.778742  ...                       No         51   \n",
       "18862               37.770407  ...                       No         39   \n",
       "\n",
       "        start_time_month  start_time_month_num start_time_weekday  \\\n",
       "363067               May                     5                Wed   \n",
       "276383           October                    10                Fri   \n",
       "489833               May                     5                Tue   \n",
       "1277155             June                     6                Tue   \n",
       "18862              March                     3                Tue   \n",
       "\n",
       "        start_time_hour  end_time_hour duration_min  distance_km  \\\n",
       "363067                8              8            6     0.778881   \n",
       "276383               19             19            3     0.606626   \n",
       "489833               10             10            1     0.432979   \n",
       "1277155               9              9           12     1.236099   \n",
       "18862                19             19           14     3.347817   \n",
       "\n",
       "        distance_miles  \n",
       "363067        0.483974  \n",
       "276383        0.376940  \n",
       "489833        0.269041  \n",
       "1277155       0.768076  \n",
       "18862         2.080237  \n",
       "\n",
       "[5 rows x 25 columns]"
      ]
     },
     "execution_count": 37,
     "metadata": {},
     "output_type": "execute_result"
    }
   ],
   "source": [
    "df_cleaned.sample(5)\n",
    "# Phew! Let's not do any additional math for this analysis. But this is pretty cool"
   ]
  },
  {
   "cell_type": "markdown",
   "metadata": {},
   "source": [
    "##### Save the cleaned data set to a new file"
   ]
  },
  {
   "cell_type": "code",
   "execution_count": 38,
   "metadata": {},
   "outputs": [],
   "source": [
    "df_cleaned.to_csv('fordgo_master_clean.csv', index = False)"
   ]
  },
  {
   "cell_type": "markdown",
   "metadata": {},
   "source": [
    "### What is the structure of your dataset?\n",
    "\n",
    "> The FordGoBike data is straightforward and intuitive to understand. This data has been collected efficiently, providing a valuable collection of data to work with and draw conclusions from.\n",
    "\n",
    "> This notebook uses data collected from January 2018 through April 15, 2019. There were approximately 1,850,000 bike rides in the San Francisco Bay area of California, USA documented.\n",
    "\n",
    "> The column header descriptions are as follows (each trip is anonymized):\n",
    "- Trip Duration (seconds)\n",
    "    - Start Time and Date\n",
    "    - End Time and Date\n",
    "- Start Station ID\n",
    "    - Start Station Name\n",
    "    - Start Station Latitude\n",
    "    - Start Station Longitude\n",
    "- End Station ID\n",
    "    - End Station Name\n",
    "    - End Station Latitude\n",
    "    - End Station Longitude\n",
    "- Bike ID\n",
    "- User Type (Subscriber or Customer – “Subscriber” = Member or “Customer” = Casual)\n",
    "    - Member Year of Birth\n",
    "    - Member Gender\n",
    "    \n",
    "> I added the following columns in my cleaning efforts:\n",
    "- Member Age\t\n",
    "- Start Time Month\t\n",
    "- Start Time Month Number\t\n",
    "- Start Time Day of the Week\t\n",
    "- Start Time Hour\n",
    "- Distance (km)\n",
    "- Distance (miles)\n",
    "\n",
    "### What is/are the main feature(s) of interest in your dataset?\n",
    "\n",
    "> The main features include data related to the start and end of a ride. This can be used to calculate when bikes are in high or low demand. There is also ample data related to the users of the bike service including their age, gender, and whether they are a paying member or a casual user. These features can be used to make business decisions such as which age group to target in marketing campaigns, or which day of the week bikes should be most available. \n",
    "\n",
    "### What features in the dataset do you think will help support your investigation into your feature(s) of interest?\n",
    "\n",
    "> The start and end times, and related time-based information will be utilized heavily. I will use the customer related data, as well as the distance to understand the user-driven data behind each ride."
   ]
  },
  {
   "cell_type": "markdown",
   "metadata": {},
   "source": [
    "-----------------"
   ]
  },
  {
   "cell_type": "markdown",
   "metadata": {},
   "source": [
    "<a id='univariate'></a>\n",
    "## Univariate Exploration\n",
    "\n",
    "> In this section, I investigate distributions of individual variables. This is also in preparation to look at the relationships between variables."
   ]
  },
  {
   "cell_type": "code",
   "execution_count": 39,
   "metadata": {},
   "outputs": [],
   "source": [
    "# Removing the rainbow colors and setting to the variable no_color\n",
    "no_color = sb.color_palette()[0]"
   ]
  },
  {
   "cell_type": "code",
   "execution_count": 40,
   "metadata": {},
   "outputs": [
    {
     "data": {
      "text/plain": [
       "count     1736572\n",
       "unique         12\n",
       "top       October\n",
       "freq       191364\n",
       "Name: start_time_month, dtype: object"
      ]
     },
     "execution_count": 40,
     "metadata": {},
     "output_type": "execute_result"
    }
   ],
   "source": [
    "# Before we visualize our data, let's see what kind of numbers we're looking at\n",
    "df_cleaned.start_time_month.describe()"
   ]
  },
  {
   "cell_type": "code",
   "execution_count": 41,
   "metadata": {},
   "outputs": [
    {
     "data": {
      "image/png": "[encoded data removed]",
      "text/plain": [
       "<Figure size 612x360 with 1 Axes>"
      ]
     },
     "metadata": {},
     "output_type": "display_data"
    }
   ],
   "source": [
    "# Monthly usage of the Ford Go Bike system\n",
    "graph = sb.catplot(data = df_cleaned, x = 'start_time_month', kind = 'count', color = no_color, aspect = 1.7);\n",
    "\n",
    "graph.set_axis_labels('Month', 'Number of Bike Trips'),\n",
    "\n",
    "graph.fig.suptitle('Ford GoBike Usage by Month', y = 1.05, fontsize = 16, fontweight = 'bold');\n",
    "\n",
    "graph.set_xticklabels(rotation=75);"
   ]
  },
  {
   "cell_type": "markdown",
   "metadata": {},
   "source": [
    "##### Observation 1: Not surprisingly, the summer months and early-mid autumn are the most popular times to use the Ford Go Bike sharing system. October is the most popular month, with July as the second most popular, and June/August coming in closely as the third most popular months to use the bike system. The weather in San Francisco is best in the mid-late summer and usually stays sunny until returning to its usual foggy weather in the late autumn/early winter months.  "
   ]
  },
  {
   "cell_type": "code",
   "execution_count": 42,
   "metadata": {},
   "outputs": [
    {
     "data": {
      "image/png": "[encoded data removed]",
      "text/plain": [
       "<Figure size 360x360 with 1 Axes>"
      ]
     },
     "metadata": {},
     "output_type": "display_data"
    }
   ],
   "source": [
    "# Weekday usage of the Ford Go bike system\n",
    "weekday = ['Mon', 'Tue', 'Wed', 'Thu', 'Fri', 'Sat', 'Sun']\n",
    "\n",
    "graph = sb.catplot(data=df_cleaned, x='start_time_weekday', kind='count', color = no_color, order = weekday)\n",
    "\n",
    "graph.set_axis_labels('Weekdays', 'Number of Bike Trips')\n",
    "\n",
    "graph.fig.suptitle('Ford GoBike Usage by Weekday', y=1.05, fontsize=16, fontweight='bold');\n",
    "\n",
    "graph.set_xticklabels(rotation=75);"
   ]
  },
  {
   "cell_type": "markdown",
   "metadata": {},
   "source": [
    "##### Observation 2: Tuesdays and Wednesdays seem to be the most popular days for using the bike sharing system, however Thursdays, Mondays and Fridays are very close to the Tues/Weds numbers. The usage drops significantly on Saturdays and Sundays suggesting the Ford bike share system is used primarily for commuting purposes during working days."
   ]
  },
  {
   "cell_type": "code",
   "execution_count": 43,
   "metadata": {},
   "outputs": [
    {
     "data": {
      "image/png": "[encoded data removed]",
      "text/plain": [
       "<Figure size 612x360 with 1 Axes>"
      ]
     },
     "metadata": {},
     "output_type": "display_data"
    }
   ],
   "source": [
    "# Hourly usage of the Ford Go Bike System\n",
    "graph = sb.catplot(data = df_cleaned, x='start_time_hour', kind='count', color = no_color, aspect = 1.7)\n",
    "\n",
    "graph.set_axis_labels('Hours', 'Number of Bike Rides')\n",
    "\n",
    "graph.fig.suptitle('Ford GoBike System Usage by Hour', y=1.05, fontsize=16, fontweight='bold');"
   ]
  },
  {
   "cell_type": "markdown",
   "metadata": {},
   "source": [
    "##### Observation 3: The bikes saw the most usage during the morning hours of 8-9am, and in the afternoon hours of 5-6pm, which is a typical workday in the United States. This furthers the suggestion that the bikes are being used primarily for commuters. "
   ]
  },
  {
   "cell_type": "code",
   "execution_count": 44,
   "metadata": {},
   "outputs": [
    {
     "data": {
      "text/plain": [
       "count    1.736572e+06\n",
       "mean     1.247599e+01\n",
       "std      3.310829e+01\n",
       "min      1.000000e+00\n",
       "25%      5.000000e+00\n",
       "50%      9.000000e+00\n",
       "75%      1.400000e+01\n",
       "max      1.438000e+03\n",
       "Name: duration_min, dtype: float64"
      ]
     },
     "execution_count": 44,
     "metadata": {},
     "output_type": "execute_result"
    }
   ],
   "source": [
    "df_cleaned.duration_min.describe()"
   ]
  },
  {
   "cell_type": "code",
   "execution_count": 45,
   "metadata": {
    "scrolled": true
   },
   "outputs": [
    {
     "data": {
      "image/png": "[encoded data removed]",
      "text/plain": [
       "<Figure size 460.8x403.2 with 1 Axes>"
      ]
     },
     "metadata": {},
     "output_type": "display_data"
    }
   ],
   "source": [
    "# Duration of the bike rides - in SECONDS\n",
    "bin_edges = np.arange(0, 3600, 60)\n",
    "\n",
    "plt.hist(data = df_cleaned, x = 'duration_sec', bins = bin_edges);\n",
    "\n",
    "plt.title(\"Ford GoBike System Trip Duration in Seconds\", y=1.05, fontsize=16, fontweight='bold')\n",
    "plt.xlabel('Duration (Sec)')\n",
    "plt.ylabel('Number of Bike Trips');"
   ]
  },
  {
   "cell_type": "code",
   "execution_count": 46,
   "metadata": {},
   "outputs": [
    {
     "data": {
      "text/plain": [
       "count    1.736572e+06\n",
       "mean     1.247599e+01\n",
       "std      3.310829e+01\n",
       "min      1.000000e+00\n",
       "25%      5.000000e+00\n",
       "50%      9.000000e+00\n",
       "75%      1.400000e+01\n",
       "max      1.438000e+03\n",
       "Name: duration_min, dtype: float64"
      ]
     },
     "execution_count": 46,
     "metadata": {},
     "output_type": "execute_result"
    }
   ],
   "source": [
    "df_cleaned.duration_min.describe(percentiles = [.95])\n",
    "df_cleaned.duration_min.describe()"
   ]
  },
  {
   "cell_type": "code",
   "execution_count": 47,
   "metadata": {},
   "outputs": [
    {
     "data": {
      "text/plain": [
       "12.475988902274135"
      ]
     },
     "execution_count": 47,
     "metadata": {},
     "output_type": "execute_result"
    }
   ],
   "source": [
    "df_cleaned.duration_min.mean()"
   ]
  },
  {
   "cell_type": "code",
   "execution_count": 48,
   "metadata": {},
   "outputs": [
    {
     "data": {
      "image/png": "[encoded data removed]",
      "text/plain": [
       "<Figure size 460.8x403.2 with 1 Axes>"
      ]
     },
     "metadata": {},
     "output_type": "display_data"
    }
   ],
   "source": [
    "# Duration of the bike rides -in MINUTES\n",
    "bin_edges = np.arange(0, 45, 1)\n",
    "ticks = [0, 5, 10, 15, 20, 25, 30,  35, 40, 45]\n",
    "labels = ['{}'.format(val) for val in ticks]\n",
    "\n",
    "plt.hist(data = df_cleaned, x = 'duration_min', bins = bin_edges, rwidth = 0.6);\n",
    "#sb.distplot(df_cleaned['duration_min'], bins = bin_edges, kde = False, hist_kws = {'alpha' : 1});\n",
    "\n",
    "plt.title(\"Ford GoBike System Trip Duration in Minutes\", y=1.05, fontsize=16, fontweight='bold')\n",
    "plt.xlabel('Duration (Min)')\n",
    "plt.xticks(ticks, labels)\n",
    "plt.ylabel('Number of Bike Trips');"
   ]
  },
  {
   "cell_type": "markdown",
   "metadata": {},
   "source": [
    "##### Observation 4: The average trip is just under 12.5 minutes, with 75% of trips being under 14 minutes. Looking at the histogram, most rides fall in between the 3 - 11 minute range. This suggests riders are taking the bikes short distances. "
   ]
  },
  {
   "cell_type": "code",
   "execution_count": 49,
   "metadata": {},
   "outputs": [
    {
     "data": {
      "text/plain": [
       "count    1.736572e+06\n",
       "mean     9.913360e-01\n",
       "std      6.353190e-01\n",
       "min      0.000000e+00\n",
       "25%      5.448099e-01\n",
       "50%      8.548518e-01\n",
       "75%      1.297049e+00\n",
       "max      4.058128e+01\n",
       "Name: distance_miles, dtype: float64"
      ]
     },
     "execution_count": 49,
     "metadata": {},
     "output_type": "execute_result"
    }
   ],
   "source": [
    "df_cleaned.distance_miles.describe()"
   ]
  },
  {
   "cell_type": "code",
   "execution_count": 50,
   "metadata": {},
   "outputs": [
    {
     "data": {
      "text/plain": [
       "0.9913359675656087"
      ]
     },
     "execution_count": 50,
     "metadata": {},
     "output_type": "execute_result"
    }
   ],
   "source": [
    "df_cleaned.distance_miles.mean()"
   ]
  },
  {
   "cell_type": "code",
   "execution_count": 51,
   "metadata": {
    "scrolled": true
   },
   "outputs": [
    {
     "data": {
      "image/png": "[encoded data removed]",
      "text/plain": [
       "<Figure size 460.8x403.2 with 1 Axes>"
      ]
     },
     "metadata": {},
     "output_type": "display_data"
    }
   ],
   "source": [
    "# Distance in miles traveled\n",
    "bin_edges = np.arange(0, 5, 1)\n",
    "\n",
    "plt.hist(data = df_cleaned, x = 'distance_miles', bins = bin_edges);\n",
    "\n",
    "plt.title(\"Ford GoBike System Trip Distance in Miles\", y=1.05, fontsize=16, fontweight='bold')\n",
    "plt.xlabel('Distance (Miles)')\n",
    "plt.ylabel('Number of Bike Trips');"
   ]
  },
  {
   "cell_type": "markdown",
   "metadata": {},
   "source": [
    "##### Observation 5: The mean distance traveled is 0.99 miles, with 75% of rides being 1.29 miles or less. Looking at the histogram above a majority of the rides fall under 2 miles, with over half of those 1 mile of less. "
   ]
  },
  {
   "cell_type": "code",
   "execution_count": 52,
   "metadata": {},
   "outputs": [
    {
     "data": {
      "text/plain": [
       "count    1.736572e+06\n",
       "mean     3.554417e+01\n",
       "std      9.700772e+00\n",
       "min      1.900000e+01\n",
       "25%      2.800000e+01\n",
       "50%      3.300000e+01\n",
       "75%      4.100000e+01\n",
       "max      6.600000e+01\n",
       "Name: member_age, dtype: float64"
      ]
     },
     "execution_count": 52,
     "metadata": {},
     "output_type": "execute_result"
    }
   ],
   "source": [
    "df_cleaned.member_age.describe()"
   ]
  },
  {
   "cell_type": "code",
   "execution_count": 53,
   "metadata": {},
   "outputs": [
    {
     "data": {
      "text/plain": [
       "66"
      ]
     },
     "execution_count": 53,
     "metadata": {},
     "output_type": "execute_result"
    }
   ],
   "source": [
    "df_cleaned.member_age.max()"
   ]
  },
  {
   "cell_type": "code",
   "execution_count": 54,
   "metadata": {},
   "outputs": [
    {
     "data": {
      "text/plain": [
       "35.544169202313526"
      ]
     },
     "execution_count": 54,
     "metadata": {},
     "output_type": "execute_result"
    }
   ],
   "source": [
    "df_cleaned.member_age.mean()"
   ]
  },
  {
   "cell_type": "code",
   "execution_count": 55,
   "metadata": {},
   "outputs": [
    {
     "data": {
      "image/png": "[encoded data removed]",
      "text/plain": [
       "<Figure size 460.8x403.2 with 1 Axes>"
      ]
     },
     "metadata": {},
     "output_type": "display_data"
    }
   ],
   "source": [
    "# Age group data\n",
    "bin_edges = np.arange(0, 65, 5)\n",
    "\n",
    "plt.hist(data = df_cleaned, x = 'member_age', bins = bin_edges);\n",
    "\n",
    "plt.title(\"Ford GoBike System User by Age\", y=1.05, fontsize=16, fontweight='bold')\n",
    "plt.xlabel('Age of Members (Years)')\n",
    "plt.ylabel('Number of Bike Trips');"
   ]
  },
  {
   "cell_type": "markdown",
   "metadata": {},
   "source": [
    "##### Observation 6: The mean age of a user is 35.5 years old. As a reminder, in the cleaning portion of this data set all users under the age of 65 were removed. The histogram shows the majority of users fall between the ages of 25 - 40 years, which is also the same age range of working adults. "
   ]
  },
  {
   "cell_type": "code",
   "execution_count": 56,
   "metadata": {},
   "outputs": [
    {
     "data": {
      "text/plain": [
       "Male      1273975\n",
       "Female     435978\n",
       "Other       26619\n",
       "Name: member_gender, dtype: int64"
      ]
     },
     "execution_count": 56,
     "metadata": {},
     "output_type": "execute_result"
    }
   ],
   "source": [
    "# Usage by females, males, and other\n",
    "gender = df_cleaned.member_gender.value_counts()\n",
    "gender"
   ]
  },
  {
   "cell_type": "code",
   "execution_count": 57,
   "metadata": {},
   "outputs": [
    {
     "data": {
      "image/png": "[encoded data removed]",
      "text/plain": [
       "<Figure size 460.8x403.2 with 1 Axes>"
      ]
     },
     "metadata": {},
     "output_type": "display_data"
    }
   ],
   "source": [
    "plt.pie(gender, labels = gender.index, startangle = 90, autopct= '%1.1f%%', counterclock = False, textprops={'color':'white'});\n",
    "#plt.axis('square');\n",
    "plt.title('Ford GoBike System User by Gender', y=1.05, fontsize=16, fontweight='bold', color = 'white');"
   ]
  },
  {
   "cell_type": "markdown",
   "metadata": {},
   "source": [
    "##### Observation 7: The visual above demonstrates the overwhelming majority of users of the bike share system are male, representing 73.3% of the total users. "
   ]
  },
  {
   "cell_type": "markdown",
   "metadata": {},
   "source": [
    "### Discuss the distribution(s) of your variable(s) of interest. Were there any unusual points? Did you need to perform any transformations?\n",
    "\n",
    "> Thankfully, due to thorough cleaning efforts there were no big surprises during the exploratory and visualization phase. The duration of the bike ride and the distance gave me a little trouble since there were some outliers I didn't anticipate.\n",
    "\n",
    "### Of the features you investigated, were there any unusual distributions? Did you perform any operations on the data to tidy, adjust, or change the form of the data? If so, why did you do this?\n",
    "\n",
    "> Nothing seems out of the normal expectations for a bike sharing system in a major city. So far, the data reveals that adults in the average working age range are the primary user base for the system, and they use the bikes on their daily commutes. "
   ]
  },
  {
   "cell_type": "markdown",
   "metadata": {},
   "source": [
    "----------------"
   ]
  },
  {
   "cell_type": "markdown",
   "metadata": {},
   "source": [
    "<a id='bivariate'></a>\n",
    "## Bivariate Exploration\n",
    "\n",
    "> In this section, I investigate relationships between pairs of variables in the\n",
    "data."
   ]
  },
  {
   "cell_type": "code",
   "execution_count": 58,
   "metadata": {},
   "outputs": [],
   "source": [
    "# Customers vs Subscribers\n",
    "customer = df_cleaned.query('user_type == \"Customer\"')['bike_id'].count()\n",
    "subscriber = df_cleaned.query('user_type == \"Subscriber\"')['bike_id'].count()\n",
    "customer_prop = customer / df_cleaned['bike_id'].count()\n",
    "subscriber_prop = subscriber / df_cleaned['bike_id'].count()"
   ]
  },
  {
   "cell_type": "code",
   "execution_count": 59,
   "metadata": {},
   "outputs": [
    {
     "data": {
      "image/png": "[encoded data removed]",
      "text/plain": [
       "<Figure size 576x360 with 1 Axes>"
      ]
     },
     "metadata": {},
     "output_type": "display_data"
    }
   ],
   "source": [
    "# Customers vs Subscribers Visuals\n",
    "# pie chart\n",
    "plt.figure(figsize = [8, 5])\n",
    "\n",
    "labels = ['Customer', 'Subscriber']\n",
    "size = [customer_prop, subscriber_prop]\n",
    "explode = (0, 0.3)\n",
    "\n",
    "plt.pie(size, explode=explode, labels = labels, autopct='%1.1f%%', shadow=True, startangle=90, textprops={'color':'white'})\n",
    "plt.axis('equal')\n",
    "\n",
    "plt.suptitle('Ford GoBike System - Customers vs. Subscribers', y=1.05, fontsize=16, fontweight='bold');"
   ]
  },
  {
   "cell_type": "code",
   "execution_count": 60,
   "metadata": {},
   "outputs": [
    {
     "data": {
      "image/png": "[encoded data removed]",
      "text/plain": [
       "<Figure size 720x360 with 1 Axes>"
      ]
     },
     "metadata": {},
     "output_type": "display_data"
    }
   ],
   "source": [
    "# Customers vs Subscribers Visuals\n",
    "# bar chart\n",
    "plt.figure(figsize = [10, 5])\n",
    "\n",
    "graph = sb.countplot(data = df_cleaned, x = \"user_type\", order = df_cleaned.user_type.value_counts().index);\n",
    "graph.set_xlabel('User Type');\n",
    "graph.set_ylabel('Number of Bike Trips');\n",
    "plt.suptitle('Ford GoBike System - Customers vs. Subscribers', y=1.05, fontsize=16, fontweight='bold');\n"
   ]
  },
  {
   "cell_type": "markdown",
   "metadata": {},
   "source": [
    "##### Observation 1: The majority of users for the Ford Go Bike System are Subscribers i.e. customers who subscribe to the monthly membership. Customers pay by trip which is $2 per trip."
   ]
  },
  {
   "cell_type": "code",
   "execution_count": 61,
   "metadata": {},
   "outputs": [
    {
     "data": {
      "image/png": "[encoded data removed]",
      "text/plain": [
       "<Figure size 720x360 with 2 Axes>"
      ]
     },
     "metadata": {},
     "output_type": "display_data"
    }
   ],
   "source": [
    "# Customer Usage by Month vs. Subscriber Usage by Month\n",
    "#plt.figure(figsize = [12, 5])\n",
    "graph = sb.catplot(data=df_cleaned, x='start_time_month', col=\"user_type\", kind='count', sharey = True, color = no_color);\n",
    "\n",
    "graph.set_axis_labels(\"Month\", \"Number of Bike Trips\");\n",
    "graph.set_titles(\"{col_name}\");\n",
    "\n",
    "graph.fig.suptitle('Ford GoBike System - Customers vs. Subscribers', y=1.05, fontsize=16, fontweight='bold');\n",
    "graph.set_xticklabels(rotation=75);"
   ]
  },
  {
   "cell_type": "markdown",
   "metadata": {},
   "source": [
    "##### Observation 2: Winter months are the worst for the bike sharing system for both groups what can be determined by the harsher weather. \n",
    "##### Customers: demand is high around summertime, reaching its peak in July. Customers are most probably tourists, or the occasional riders who visit the Bay Area. \n",
    "##### Subscribers: the highest demand is from May till October, reaching it's peak in October. Subscribers are most likely riders using the bikes for their daily commute."
   ]
  },
  {
   "cell_type": "code",
   "execution_count": 62,
   "metadata": {
    "scrolled": true
   },
   "outputs": [
    {
     "data": {
      "image/png": "[encoded data removed]",
      "text/plain": [
       "<Figure size 864x360 with 1 Axes>"
      ]
     },
     "metadata": {},
     "output_type": "display_data"
    }
   ],
   "source": [
    "# Customer Usage by Weekday vs. Subscriber Usage by Weekday\n",
    "plt.figure(figsize=(12, 5))\n",
    "\n",
    "df_cleaned_user_week = df_cleaned.groupby(['start_time_weekday', 'user_type']).size().reset_index()\n",
    "weekday = ['Mon', 'Tue', 'Wed', 'Thu', 'Fri', 'Sat', 'Sun']\n",
    "\n",
    "ax = sb.pointplot(data=df_cleaned_user_week, x='start_time_weekday', y=0, hue = 'user_type', scale=.7, order = weekday);\n",
    "\n",
    "plt.title('Ford GoBike System Trends by User Type', y=1.05, fontsize=16, fontweight='bold')\n",
    "plt.xlabel('Weekdays')\n",
    "plt.ylabel('Number of Bike Trips');\n",
    "plt.grid()"
   ]
  },
  {
   "cell_type": "markdown",
   "metadata": {},
   "source": [
    "##### Observation 3: The point plot above is an excellent visual showing the sharp contrast between Customers and Subscribers. Customers have a relatively low usage of the bike share system with a small increase on the weekends. Subscribers are the opposite - there is steadily high usage on weekdays, with a sharp decline on the weekend."
   ]
  },
  {
   "cell_type": "code",
   "execution_count": 63,
   "metadata": {},
   "outputs": [
    {
     "data": {
      "image/png": "[encoded data removed]",
      "text/plain": [
       "<Figure size 864x576 with 1 Axes>"
      ]
     },
     "metadata": {},
     "output_type": "display_data"
    }
   ],
   "source": [
    "# Customer Usage by Distance vs. Subscriber Usage by Distance\n",
    "plt = df_cleaned.groupby('user_type')['distance_miles'].mean().plot(kind='barh', figsize=(12,8));\n",
    "\n",
    "plt.set_title('Ford Go Bike System Average Distance (Miles) by User Type', y=1.05, fontsize=16, fontweight='bold')\n",
    "plt.set_xlabel('User Type')\n",
    "plt.set_ylabel('Average Distance Traveled (Miles)');"
   ]
  },
  {
   "cell_type": "markdown",
   "metadata": {},
   "source": [
    "##### Observation 4: The average distance traveled by customers is slightly higher than subscribers. Since the data exploration thus far suggests subscribers are using the bike share system for commuting purposes, that suggestion also implies that the commuting distance for the subscribers is less than the average ride a customer takes. "
   ]
  },
  {
   "cell_type": "code",
   "execution_count": 64,
   "metadata": {},
   "outputs": [
    {
     "data": {
      "text/plain": [
       "count    1.736572e+06\n",
       "mean     1.247599e+01\n",
       "std      3.310829e+01\n",
       "min      1.000000e+00\n",
       "50%      9.000000e+00\n",
       "95%      2.700000e+01\n",
       "max      1.438000e+03\n",
       "Name: duration_min, dtype: float64"
      ]
     },
     "execution_count": 64,
     "metadata": {},
     "output_type": "execute_result"
    }
   ],
   "source": [
    "df_cleaned.duration_min.describe(percentiles = [.95])"
   ]
  },
  {
   "cell_type": "code",
   "execution_count": 65,
   "metadata": {},
   "outputs": [
    {
     "data": {
      "image/png": "[encoded data removed]",
      "text/plain": [
       "<Figure size 1440x360 with 2 Axes>"
      ]
     },
     "metadata": {},
     "output_type": "display_data"
    }
   ],
   "source": [
    "# Customer Usage by Duration vs. Subscriber Usage by Duration\n",
    "\n",
    "data = df_cleaned.query('duration_min < 30')\n",
    "\n",
    "graph = sb.catplot(data=data, x = 'duration_min', col='user_type', kind='count', sharey = False, color = no_color, height=5, aspect=2);\n",
    "\n",
    "graph.set_axis_labels('Duration (Min)', 'Number of Bike Trips')\n",
    "graph.set_titles('{col_name}')\n",
    "\n",
    "graph.fig.suptitle('Ford GoBike System - Customers vs. Subscribers Ride Duration (Min)', y=1.05, fontsize=16, fontweight='bold');\n",
    "graph.set_xticklabels(rotation=75);"
   ]
  },
  {
   "cell_type": "code",
   "execution_count": 66,
   "metadata": {},
   "outputs": [
    {
     "data": {
      "image/png": "[encoded data removed]",
      "text/plain": [
       "<Figure size 720x360 with 2 Axes>"
      ]
     },
     "metadata": {},
     "output_type": "display_data"
    }
   ],
   "source": [
    "data = df_cleaned.query('duration_min < 30')\n",
    "\n",
    "g = sb.catplot(data=data, y='duration_min', col=\"user_type\", kind='box', color = no_color)\n",
    "\n",
    "g.set_titles(col_template = '{col_name}')\n",
    "g.set_axis_labels(\"\", \"Duration (Min)\")\n",
    "g.fig.suptitle('Ford Go Bike System - Duration (Min) by User Type', y=1.05, fontsize=16, fontweight='bold');"
   ]
  },
  {
   "cell_type": "markdown",
   "metadata": {},
   "source": [
    "##### Observation 5: The plots above show the ride duration spread in minutes (note the y-axis isn't shared between the Customer and Subscriber graphs in order to visualize trends easier). Customer typically have trip durations are longer (8 to 18 minutes according to the box plot) than for subscribers (5 to 12 minutes according to the box plot). This can probably be explained by the fact that subscribers are mainly commuters who take short trips to work/school rather than longer trips around the Bay Area."
   ]
  },
  {
   "cell_type": "code",
   "execution_count": 67,
   "metadata": {},
   "outputs": [
    {
     "data": {
      "image/png": "[encoded data removed]",
      "text/plain": [
       "<Figure size 1440x360 with 2 Axes>"
      ]
     },
     "metadata": {},
     "output_type": "display_data"
    }
   ],
   "source": [
    "# # Customer vs. Subscriber Usage by Age\n",
    "graph = sb.catplot(data = df_cleaned, x = 'member_age', col='user_type', kind='count', sharey = False, color = no_color, height=5, aspect=2)\n",
    "\n",
    "graph.set_axis_labels('Member Age', 'Number of Bike Trips')\n",
    "graph.set_titles('{col_name}')\n",
    "\n",
    "graph.fig.suptitle('Ford GBike System - Customers vs. Subscribers Ages', y=1.05, fontsize=16, fontweight='bold');\n",
    "graph.set_xticklabels(rotation=75);"
   ]
  },
  {
   "cell_type": "markdown",
   "metadata": {},
   "source": [
    "##### Observation 6: (Note the y-axis isn't shared between the Customer and Subscriber graphs in order to visualize trends easier). Both user type graphs show the high number of 31 year olds falling withing both catgoires. Subscribers have a wider range of ages while Customers tends to have mostly younger users (most are und the 31 threshold) while the Subscriber user group is more spread out between varying ages with plenty of users in their mid-fifities. "
   ]
  },
  {
   "cell_type": "markdown",
   "metadata": {},
   "source": [
    "### Talk about some of the relationships you observed in this part of the investigation. How did the feature(s) of interest vary with other features in the dataset?\n",
    "\n",
    "> Adding the user type to the analysis revealed different behavior usage between customers and subscribers. The data suggests that customers are casual riders such as tourists, or students on a school vacation or holiday. This is accurate when factoring in that Customer usage increases on the weekends, and peaks during the month of July. In contrast, the data suggests Subscribers are daily commuters or full time students who use the system during weekdays, better weather, and mostly for shorter distances. They mainly rent bikes before and after a typical work or school day (8-9am and 5-6pm).\n",
    "\n",
    "### Did you observe any interesting relationships between the other features (not the main feature(s) of interest)?\n",
    "\n",
    "> There is a difference in the trip duration between customers and subscribers. Customers trips are usually longer than for subscribers, most probably due to the fact they prefer bike rides around weekends in summertime, which may be for longer trips around the surrounding area. Subscribers use the system mainly for commute purposes so they prefer quick, short rides to and from work."
   ]
  },
  {
   "cell_type": "markdown",
   "metadata": {},
   "source": [
    "----------------"
   ]
  },
  {
   "cell_type": "markdown",
   "metadata": {},
   "source": [
    "<a id='multivariate'></a>\n",
    "## Multivariate Exploration\n",
    "\n",
    "> I created plots of three or more variables to investigate the Ford Go Bike data even further."
   ]
  },
  {
   "cell_type": "code",
   "execution_count": 68,
   "metadata": {},
   "outputs": [
    {
     "data": {
      "text/plain": [
       "count    1.736572e+06\n",
       "mean     3.554417e+01\n",
       "std      9.700772e+00\n",
       "min      1.900000e+01\n",
       "25%      2.800000e+01\n",
       "50%      3.300000e+01\n",
       "75%      4.100000e+01\n",
       "max      6.600000e+01\n",
       "Name: member_age, dtype: float64"
      ]
     },
     "execution_count": 68,
     "metadata": {},
     "output_type": "execute_result"
    }
   ],
   "source": [
    "df_cleaned.member_age.describe()"
   ]
  },
  {
   "cell_type": "code",
   "execution_count": 69,
   "metadata": {},
   "outputs": [
    {
     "data": {
      "text/plain": [
       "26 - 35    808378\n",
       "36 - 45    431859\n",
       "15 - 25    214039\n",
       "46 - 55    196205\n",
       "56 - 66     86091\n",
       "Name: age_bins, dtype: int64"
      ]
     },
     "execution_count": 69,
     "metadata": {},
     "output_type": "execute_result"
    }
   ],
   "source": [
    "df_cleaned['age_bins'] = df_cleaned['member_age'].apply(lambda x: '15 - 25' if 15<x<=25\n",
    "                                                  else '26 - 35' if 25<x<=35\n",
    "                                                  else '36 - 45' if 35<x<=45\n",
    "                                                  else '46 - 55' if 45<x<=55\n",
    "                                                  else '56 - 66' if 55<x<=66\n",
    "                                                       else x)\n",
    "df_cleaned.age_bins.value_counts()"
   ]
  },
  {
   "cell_type": "code",
   "execution_count": 70,
   "metadata": {},
   "outputs": [],
   "source": [
    "subscriber_age_df = df_cleaned[df_cleaned['user_type'] == 'Subscriber'].groupby(['start_time_month', 'age_bins']).agg({'bike_id':'count'}).reset_index()\n",
    "#subscriber_age_df"
   ]
  },
  {
   "cell_type": "code",
   "execution_count": 71,
   "metadata": {},
   "outputs": [
    {
     "ename": "AttributeError",
     "evalue": "'AxesSubplot' object has no attribute 'xlabel'",
     "output_type": "error",
     "traceback": [
      "\u001b[0;31m---------------------------------------------------------------------------\u001b[0m",
      "\u001b[0;31mAttributeError\u001b[0m                            Traceback (most recent call last)",
      "\u001b[0;32m<ipython-input-71-afef2f195c47>\u001b[0m in \u001b[0;36m<module>\u001b[0;34m\u001b[0m\n\u001b[1;32m      6\u001b[0m \u001b[0max\u001b[0m \u001b[0;34m=\u001b[0m \u001b[0msb\u001b[0m\u001b[0;34m.\u001b[0m\u001b[0mpointplot\u001b[0m\u001b[0;34m(\u001b[0m\u001b[0mdata\u001b[0m \u001b[0;34m=\u001b[0m \u001b[0msubscriber_age_df\u001b[0m\u001b[0;34m,\u001b[0m \u001b[0mx\u001b[0m\u001b[0;34m=\u001b[0m\u001b[0;34m'start_time_month'\u001b[0m\u001b[0;34m,\u001b[0m \u001b[0my\u001b[0m\u001b[0;34m=\u001b[0m\u001b[0;34m'bike_id'\u001b[0m\u001b[0;34m,\u001b[0m \u001b[0mhue\u001b[0m\u001b[0;34m=\u001b[0m\u001b[0;34m'age_bins'\u001b[0m\u001b[0;34m,\u001b[0m \u001b[0mscale\u001b[0m\u001b[0;34m=\u001b[0m\u001b[0;36m.6\u001b[0m\u001b[0;34m,\u001b[0m \u001b[0morder\u001b[0m \u001b[0;34m=\u001b[0m \u001b[0mmonths\u001b[0m\u001b[0;34m,\u001b[0m \u001b[0mheight\u001b[0m\u001b[0;34m=\u001b[0m\u001b[0;36m5\u001b[0m\u001b[0;34m,\u001b[0m \u001b[0maspect\u001b[0m\u001b[0;34m=\u001b[0m\u001b[0;36m2\u001b[0m\u001b[0;34m)\u001b[0m\u001b[0;34m;\u001b[0m\u001b[0;34m\u001b[0m\u001b[0;34m\u001b[0m\u001b[0m\n\u001b[1;32m      7\u001b[0m \u001b[0;34m\u001b[0m\u001b[0m\n\u001b[0;32m----> 8\u001b[0;31m \u001b[0mplt\u001b[0m\u001b[0;34m.\u001b[0m\u001b[0mxlabel\u001b[0m\u001b[0;34m(\u001b[0m\u001b[0;34m'Month'\u001b[0m\u001b[0;34m,\u001b[0m \u001b[0mlabelpad\u001b[0m \u001b[0;34m=\u001b[0m \u001b[0;36m16\u001b[0m\u001b[0;34m)\u001b[0m\u001b[0;34m\u001b[0m\u001b[0;34m\u001b[0m\u001b[0m\n\u001b[0m\u001b[1;32m      9\u001b[0m \u001b[0mplt\u001b[0m\u001b[0;34m.\u001b[0m\u001b[0mylabel\u001b[0m\u001b[0;34m(\u001b[0m\u001b[0;34m'Number of Bike Trips'\u001b[0m\u001b[0;34m,\u001b[0m \u001b[0mlabelpad\u001b[0m \u001b[0;34m=\u001b[0m \u001b[0;36m16\u001b[0m\u001b[0;34m)\u001b[0m\u001b[0;34m\u001b[0m\u001b[0;34m\u001b[0m\u001b[0m\n\u001b[1;32m     10\u001b[0m \u001b[0mplt\u001b[0m\u001b[0;34m.\u001b[0m\u001b[0mtitle\u001b[0m\u001b[0;34m(\u001b[0m\u001b[0;34m\"Ford GoBike System - Monthly Bike Trips Per Subscribers' Age Group\"\u001b[0m\u001b[0;34m,\u001b[0m \u001b[0my\u001b[0m \u001b[0;34m=\u001b[0m \u001b[0;36m1.05\u001b[0m\u001b[0;34m,\u001b[0m \u001b[0mfontsize\u001b[0m \u001b[0;34m=\u001b[0m \u001b[0;36m16\u001b[0m\u001b[0;34m,\u001b[0m \u001b[0mfontweight\u001b[0m \u001b[0;34m=\u001b[0m \u001b[0;34m'bold'\u001b[0m\u001b[0;34m)\u001b[0m\u001b[0;34m;\u001b[0m\u001b[0;34m\u001b[0m\u001b[0;34m\u001b[0m\u001b[0m\n",
      "\u001b[0;31mAttributeError\u001b[0m: 'AxesSubplot' object has no attribute 'xlabel'"
     ]
    },
    {
     "data": {
      "image/png": "[encoded data removed]",
      "text/plain": [
       "<Figure size 460.8x403.2 with 1 Axes>"
      ]
     },
     "metadata": {},
     "output_type": "display_data"
    }
   ],
   "source": [
    "# Comparing monthly number of bike trips per subscribers, based on their age group (reference age bins I calculated above)\n",
    "#plt.figure(figsize = (15,8))\n",
    "\n",
    "months = ['January', 'February', 'March', 'April', 'May', 'June', 'July', 'August', 'September', 'October', 'November', 'December']\n",
    "\n",
    "ax = sb.pointplot(data = subscriber_age_df, x='start_time_month', y='bike_id', hue='age_bins', scale=.6, order = months, height=5, aspect=2);\n",
    "\n",
    "plt.xlabel('Month', labelpad = 16)\n",
    "plt.ylabel('Number of Bike Trips', labelpad = 16)\n",
    "plt.title(\"Ford GoBike System - Monthly Bike Trips Per Subscribers' Age Group\", y = 1.05, fontsize = 16, fontweight = 'bold');\n",
    "plt.set_xticklabels(rotation=75);\n",
    "\n",
    "# Legend\n",
    "leg = ax.legend()\n",
    "leg.set_title('Member by Age Group', prop={'size': 16})\n",
    "\n",
    "plt.show()"
   ]
  },
  {
   "cell_type": "markdown",
   "metadata": {},
   "source": [
    "##### Please reference the slide deck with the correct visual - after much trial and error I can not get the code to work properly in this notebook. "
   ]
  },
  {
   "cell_type": "markdown",
   "metadata": {},
   "source": [
    "##### Observation 1: Subscribers who fall in the age group between 26-35 years old are the most common age group to use the bike sharing system. The 26-35 years old also lead the spike which occurs across all age groups in October. Subscribers who fall in the 36-45 year old age group are the next most common age group to use the bike sharing system, and follow a similar trend at the 26-35 year olds. The youngest age group, the 15-25 years olds starts off with very few rides (comparative to the entire dataset), but generally increase throughout the year when they reach their first spike in July, with a slight dip during August and September, with another spike in October before decreasing again for the rest of the year. This follows the traditional school year, with the summer months of June - September designated as a break from school. "
   ]
  },
  {
   "cell_type": "code",
   "execution_count": null,
   "metadata": {},
   "outputs": [],
   "source": [
    "# Weekday order\n",
    "weekday = ['Mon', 'Tue', 'Wed', 'Thu', 'Fri', 'Sat', 'Sun']\n",
    "df_cleaned['start_time_weekday'] = pd.Categorical(df_cleaned['start_time_weekday'], categories= ['Mon', 'Tue', 'Wed', 'Thu', 'Fri', 'Sat', 'Sun'], ordered=True);\n",
    "\n",
    "#plt.figure(figsize=(15,8))\n",
    "\n",
    "# Heatmap - Customers\n",
    "#plt.subplot(1, 2, 1)\n",
    "df_customer = df_cleaned.query('user_type == \"Customer\"').groupby(['start_time_hour', 'start_time_weekday'])['bike_id'].size().reset_index();\n",
    "df_customer = df_customer.pivot('start_time_hour', 'start_time_weekday', 'bike_id')\n",
    "\n",
    "heat_map = sb.heatmap(df_customer, cmap = 'twilight')\n",
    "\n",
    "plt.title('Customer', y=1.05)\n",
    "plt.xlabel('Weekday', labelpad = 16)\n",
    "plt.ylabel('Start Time Hour',  labelpad = 16)\n",
    "\n",
    "plt.show()\n",
    "\n",
    "#graph.suptitle('Ford GoBike System - Start Time vs. Weekday by User Type', y = 1.05, fontsize = 16, fontweight = 'bold');"
   ]
  },
  {
   "cell_type": "markdown",
   "metadata": {},
   "source": [
    "##### Please reference the slide deck with the correct visual - after much trial and error I can not get the code to work properly in this notebook. "
   ]
  },
  {
   "cell_type": "code",
   "execution_count": null,
   "metadata": {},
   "outputs": [],
   "source": [
    "# Heatmap - Subscribers\n",
    "#plt.subplot(1, 2, 2)\n",
    "df_subscriber = df_cleaned.query('user_type == \"Subscriber\"').groupby(['start_time_hour', 'start_time_weekday'])['bike_id'].size().reset_index();\n",
    "df_subscriber = df_subscriber.pivot('start_time_hour', 'start_time_weekday', 'bike_id')\n",
    "hot_map = sb.heatmap(df_subscriber, cmap = 'twilight')\n",
    "\n",
    "plt.title(\"Subscriber\", y=1.05)\n",
    "plt.xlabel('Weekday', labelpad = 16)\n",
    "plt.ylabel('Start Time Hour', labelpad = 16);\n",
    "\n",
    "plt.show()"
   ]
  },
  {
   "cell_type": "markdown",
   "metadata": {},
   "source": [
    "##### Please reference the slide deck with the correct visual - after much trial and error I can not get the code to work properly in this notebook. "
   ]
  },
  {
   "cell_type": "markdown",
   "metadata": {},
   "source": [
    "##### Observation 2: Customers use the bike sharing system more often on weekends, whilte Subscribers primarily use the bikes on weekdays. \n",
    "##### Customers: During weekdays, most bike rides occur between 4-6pm, peaking on Fridays around 5pm. During weeknds, most bike rides occur between 11am and 6pm, peaking on Saturdays around 2pm.\n",
    "##### Subscribers: During weekdays, most bike rides occur around 8-9am and 4-6pm. During weekends, there is a significant drop in the number of rented bikes."
   ]
  },
  {
   "cell_type": "code",
   "execution_count": null,
   "metadata": {},
   "outputs": [],
   "source": [
    "# Monthly usage - user type and gender\n",
    "graph = sb.catplot(data=df_cleaned, x='start_time_month', col=\"user_type\", hue=\"member_gender\", kind='count', sharey = False, height=5, aspect=2);\n",
    "\n",
    "graph.set_axis_labels(\"Month\", \"Number of Bike Trips\")\n",
    "graph._legend.set_title('Gender')\n",
    "graph.set_titles(\"{col_name}\")\n",
    "\n",
    "graph.fig.suptitle('Ford GoBike System - Monthly Usage Per User Type and Gender', y=1.05, fontsize=16, fontweight='bold');\n",
    "graph.set_xticklabels(rotation=75);"
   ]
  },
  {
   "cell_type": "markdown",
   "metadata": {},
   "source": [
    "##### Observation 3:  (Note the y-axis isn't shared between the Customer and Subscriber graphs in order to visualize trends easier). The trend for males and females is very similar for customers, the highest demand is around summertime, reaching its peak in July. For subscribers, the highest demand is from May until October, reaching it's peak in October. Suprisingly, there is a significant number of female Customers using the system between January and March, coming close to the numbers of to male Customers - the ratio is much smaller for the rest of the year."
   ]
  },
  {
   "cell_type": "code",
   "execution_count": null,
   "metadata": {},
   "outputs": [],
   "source": [
    "# Violinplot - duration (min) per user type and gender\n",
    "\n",
    "graph = sb.catplot(data=data, x='user_type', y=\"duration_min\", hue=\"member_gender\", kind=\"violin\", height=5, aspect=2);\n",
    "\n",
    "graph.set_axis_labels(\"User Type\", \"Trip Duration (Min)\")\n",
    "graph._legend.set_title('Gender')\n",
    "graph.fig.suptitle('Ford GoBike System - Trip Duration (Min) Per User Type and Gender', y=1.05, fontsize=16, fontweight='bold');"
   ]
  },
  {
   "cell_type": "markdown",
   "metadata": {},
   "source": [
    "##### Observation 4: In both cases, females take longer trips (measured in time) than males and other genders. The difference is more visible for customers (~13 min for males and other vs ~15 for females) than for subscribers (the difference is quite small)."
   ]
  },
  {
   "cell_type": "markdown",
   "metadata": {},
   "source": [
    "### Talk about some of the relationships you observed in this part of the investigation. Were there features that strengthened each other in terms of looking at your feature(s) of interest?\n",
    "\n",
    "> This section essentially amplified the previous data topics of exploration through different visuals and adding in more variables to compare to other variables. Subscriber vs Customer age was expanded upon through the use of age groups, and a pointplot to demonstrate the varing habits of each age group. The heatmap didn't reveal anything new for the time based discussion on when and what time each user group uses the bike sharing system. As previously noted, Customers use the system at almost the opposite time as the Subscribers. \n",
    "\n",
    "### Were there any interesting or surprising interactions between features?\n",
    "\n",
    "> Nothing out of the expected here. It was interesting to note the sharp monthly difference for males vs. females vs. other, and how close the female count got to the male Customer count in January through March. This may be a potential loss of possible Customers converting to Subscribers. "
   ]
  },
  {
   "cell_type": "markdown",
   "metadata": {},
   "source": [
    "------------------"
   ]
  },
  {
   "cell_type": "markdown",
   "metadata": {},
   "source": [
    "<a id='summary'></a>\n",
    "## Summary"
   ]
  },
  {
   "cell_type": "markdown",
   "metadata": {},
   "source": [
    "This project is a win - win situation where a large number of people can benefit from this program:\n",
    "- Environmentally friendly, budget friendly, and lifetsyle friendly. \n",
    "- Subscribers (i.e. daily commuters) benefit from a health commuting choice\n",
    "- Customers (i.e. tourists, students, etc.) have a sustainable, yet flexible option for touring the city.\n",
    "- Affordable and convenient transportation for the people of all socioeconomic classes\n",
    "\n",
    "Renting a bike from theFord GoBike System is a fantastic (healthy and environmentally friendly) way of moving around in the city, both for enjoyment and work. There are two types of clients using the system: Subscribers and Customers. Subscribers are primarily daily commuters, having short trips to and from work, who rent a bike on weekdays at 8-9am and 5-6pm, and, occasionally around lunch time. Customers are usually tourists or occassional riders who use the system mainly on weekends to explore the Bay Area."
   ]
  },
  {
   "cell_type": "markdown",
   "metadata": {},
   "source": [
    "------------------"
   ]
  },
  {
   "cell_type": "markdown",
   "metadata": {},
   "source": [
    "<a id='sources'></a>\n",
    "## Sources"
   ]
  },
  {
   "cell_type": "markdown",
   "metadata": {},
   "source": [
    "- [FordGoBike Data Set](https://www.fordgobike.com/)\n",
    "- [Haversine formula](https://www.movable-type.co.uk/scripts/latlong.html) used to calculate distances using latitude and longitude\n",
    "- [Seaborn catplot](https://seaborn.pydata.org/generated/seaborn.catplot.html) documentation\n",
    "- [Matplotlib histogram](https://matplotlib.org/api/_as_gen/matplotlib.pyplot.hist.html) documentation\n",
    "- [IPython Display](https://ipython.org/ipython-doc/3/api/generated/IPython.display.html) documentation\n",
    "- [Seaborn heatmap](https://seaborn.pydata.org/generated/seaborn.heatmap.html?highlight=heatmap#seaborn.heatmap) documentation and [tutorial](https://likegeeks.com/seaborn-heatmap-tutorial/)"
   ]
  }
 ],
 "metadata": {
  "kernelspec": {
   "display_name": "Python 3",
   "language": "python",
   "name": "python3"
  },
  "language_info": {
   "codemirror_mode": {
    "name": "ipython",
    "version": 3
   },
   "file_extension": ".py",
   "mimetype": "text/x-python",
   "name": "python",
   "nbconvert_exporter": "python",
   "pygments_lexer": "ipython3",
   "version": "3.7.6"
  }
 },
 "nbformat": 4,
 "nbformat_minor": 2
}
